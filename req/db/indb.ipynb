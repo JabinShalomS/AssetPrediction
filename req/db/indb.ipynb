{
 "cells": [
  {
   "cell_type": "code",
   "execution_count": 1,
   "metadata": {},
   "outputs": [
    {
     "name": "stdout",
     "output_type": "stream",
     "text": [
      "Requirement already satisfied: pandas in c:\\users\\ravi\\anaconda3\\lib\\site-packages (2.2.2)\n",
      "Requirement already satisfied: openpyxl in c:\\users\\ravi\\anaconda3\\lib\\site-packages (3.1.2)\n",
      "Requirement already satisfied: sqlalchemy in c:\\users\\ravi\\anaconda3\\lib\\site-packages (2.0.30)\n",
      "Collecting pymysql\n",
      "  Downloading PyMySQL-1.1.1-py3-none-any.whl.metadata (4.4 kB)\n",
      "Requirement already satisfied: numpy>=1.26.0 in c:\\users\\ravi\\anaconda3\\lib\\site-packages (from pandas) (1.26.4)\n",
      "Requirement already satisfied: python-dateutil>=2.8.2 in c:\\users\\ravi\\anaconda3\\lib\\site-packages (from pandas) (2.9.0.post0)\n",
      "Requirement already satisfied: pytz>=2020.1 in c:\\users\\ravi\\anaconda3\\lib\\site-packages (from pandas) (2024.1)\n",
      "Requirement already satisfied: tzdata>=2022.7 in c:\\users\\ravi\\anaconda3\\lib\\site-packages (from pandas) (2023.3)\n",
      "Requirement already satisfied: et-xmlfile in c:\\users\\ravi\\anaconda3\\lib\\site-packages (from openpyxl) (1.1.0)\n",
      "Requirement already satisfied: typing-extensions>=4.6.0 in c:\\users\\ravi\\anaconda3\\lib\\site-packages (from sqlalchemy) (4.11.0)\n",
      "Requirement already satisfied: greenlet!=0.4.17 in c:\\users\\ravi\\anaconda3\\lib\\site-packages (from sqlalchemy) (3.0.1)\n",
      "Requirement already satisfied: six>=1.5 in c:\\users\\ravi\\anaconda3\\lib\\site-packages (from python-dateutil>=2.8.2->pandas) (1.16.0)\n",
      "Downloading PyMySQL-1.1.1-py3-none-any.whl (44 kB)\n",
      "   ---------------------------------------- 0.0/45.0 kB ? eta -:--:--\n",
      "   --------- ------------------------------ 10.2/45.0 kB ? eta -:--:--\n",
      "   ------------------ --------------------- 20.5/45.0 kB 330.3 kB/s eta 0:00:01\n",
      "   ------------------------------------ --- 41.0/45.0 kB 326.8 kB/s eta 0:00:01\n",
      "   ---------------------------------------- 45.0/45.0 kB 318.6 kB/s eta 0:00:00\n",
      "Installing collected packages: pymysql\n",
      "Successfully installed pymysql-1.1.1\n"
     ]
    }
   ],
   "source": [
    "!pip install pandas openpyxl sqlalchemy pymysql\n"
   ]
  },
  {
   "cell_type": "code",
   "execution_count": 12,
   "metadata": {},
   "outputs": [
    {
     "name": "stdout",
     "output_type": "stream",
     "text": [
      "Data inserted successfully!\n"
     ]
    }
   ],
   "source": [
    "import pandas as pd\n",
    "from sqlalchemy import create_engine\n",
    "\n",
    "# Database connection details\n",
    "DB_USER = \"root\"\n",
    "DB_PASSWORD = \"asset\"\n",
    "DB_HOST = \"localhost\"  # Change if using a remote server\n",
    "DB_NAME = \"past_srp_prediction\"\n",
    "TABLE_NAME = \"poland\"\n",
    "\n",
    "# Create a database connection\n",
    "engine = create_engine(f\"mysql+pymysql://{DB_USER}:{DB_PASSWORD}@{DB_HOST}/{DB_NAME}\")\n",
    "\n",
    "# Read Excel file\n",
    "excel_file = \"PLSRP_ML.xlsx\"  # Replace with your actual file\n",
    "df = pd.read_excel(excel_file, usecols=['Part_Number', 'Location', 'Location_City', 'ModelName', \"Trend_fit\"])  # Adjust column names\n",
    "\n",
    "df = df.rename(columns={'Trend_fit': 'Month_12'})\n",
    "df[\"Year_Number\"]=2024\n",
    "df[[\"Month_1\",\"Month_2\",\"Month_3\",\"Month_4\",\"Month_5\",\"Month_6\",\"Month_7\",\"Month_8\",\"Month_9\",\"Month_10\",\"Month_11\"]]=0\n",
    "# Write to MySQL database\n",
    "df.to_sql(TABLE_NAME, con=engine, if_exists=\"append\", index=False)\n",
    "\n",
    "print(\"Data inserted successfully!\")\n"
   ]
  },
  {
   "cell_type": "code",
   "execution_count": 6,
   "metadata": {},
   "outputs": [
    {
     "name": "stdout",
     "output_type": "stream",
     "text": [
      "   id Part_Number       Location       Location_City  \\\n",
      "0   1  4Y51C21217  9AAE101530ABB  ALEKSANDROW LODZKI   \n",
      "1   2  4Y51C21217  9AAE104452ABB       BIELSKO BIALA   \n",
      "2   3  4Y51C21217  9AAE100616ABB            WARSZAWA   \n",
      "3   4  4Y51C21217  9AAE103835ABB              KRAKOW   \n",
      "4   5  4Y51C21217  9AAE100611ABB           PRZASNYSZ   \n",
      "\n",
      "                        ModelName  Trend_fit   price   Amount  for_Month  \n",
      "0  Go Wireless Multi-Device Mouse        0.0  170.37     0.00          9  \n",
      "1  Go Wireless Multi-Device Mouse        6.0  170.37  1022.22          9  \n",
      "2  Go Wireless Multi-Device Mouse        0.0  170.37     0.00          9  \n",
      "3  Go Wireless Multi-Device Mouse        0.0  170.37     0.00          9  \n",
      "4  Go Wireless Multi-Device Mouse        4.0  170.37   681.48          9  \n"
     ]
    }
   ],
   "source": [
    "import pandas as pd\n",
    "from sqlalchemy import create_engine\n",
    "\n",
    "# Database connection details\n",
    "DB_USER = \"root\"\n",
    "DB_PASSWORD = \"asset\"\n",
    "DB_HOST = \"localhost\"  # Change if using a remote server\n",
    "DB_NAME = \"test_store\"\n",
    "TABLE_NAME = \"poland\"\n",
    "\n",
    "# Create a database connection\n",
    "engine = create_engine(f\"mysql+pymysql://{DB_USER}:{DB_PASSWORD}@{DB_HOST}/{DB_NAME}\")\n",
    "\n",
    "# SQL Query\n",
    "query = f\"SELECT * FROM {TABLE_NAME}\"  # Modify query as needed\n",
    "\n",
    "# Read data into a Pandas DataFrame\n",
    "df = pd.read_sql(query, con=engine)\n",
    "\n",
    "# Display DataFrame\n",
    "print(df.head())  # Show the first 5 rows\n",
    "\n"
   ]
  },
  {
   "cell_type": "code",
   "execution_count": null,
   "metadata": {},
   "outputs": [],
   "source": [
    "import sqlite3\n",
    "import json\n",
    "\n",
    "# Connect to your database\n",
    "conn = sqlite3.connect('your_database.db')\n",
    "cursor = conn.cursor()\n",
    "\n",
    "# Query to fetch data from the table\n",
    "query = \"\"\"\n",
    "SELECT part_number, location, location_city, month_1, month_2, month_3, month_4, month_5, month_6, month_7, month_8, month_9, month_10, month_11, month_12\n",
    "FROM your_table\n",
    "\"\"\"\n",
    "cursor.execute(query)\n",
    "rows = cursor.fetchall()\n",
    "\n",
    "# Transform the data\n",
    "variable = []\n",
    "for row in rows:\n",
    "    part_number, location, location_city, *months = row\n",
    "    variable.append({\n",
    "        \"partnumber\": part_number,\n",
    "        \"location_city\": location_city,\n",
    "        \"month\": months\n",
    "    })\n",
    "\n",
    "# Print or use the variable as needed\n",
    "print(json.dumps(variable, indent=4))\n",
    "\n",
    "# Close the connection\n",
    "conn.close()"
   ]
  },
  {
   "cell_type": "code",
   "execution_count": 5,
   "metadata": {},
   "outputs": [
    {
     "ename": "ValueError",
     "evalue": "not enough values to unpack (expected 14, got 11)",
     "output_type": "error",
     "traceback": [
      "\u001b[1;31m---------------------------------------------------------------------------\u001b[0m",
      "\u001b[1;31mValueError\u001b[0m                                Traceback (most recent call last)",
      "Cell \u001b[1;32mIn[5], line 20\u001b[0m\n\u001b[0;32m     18\u001b[0m variable \u001b[38;5;241m=\u001b[39m []\n\u001b[0;32m     19\u001b[0m \u001b[38;5;28;01mfor\u001b[39;00m row \u001b[38;5;129;01min\u001b[39;00m df:\n\u001b[1;32m---> 20\u001b[0m     Part_Number,Location_City,Month_1,Month_2,Month_3,Month_4,Month_5,Month_6,Month_7,Month_8,Month_9,Month_10,Month_11,Month_12 \u001b[38;5;241m=\u001b[39m row\n\u001b[0;32m     21\u001b[0m     variable\u001b[38;5;241m.\u001b[39mappend({\n\u001b[0;32m     22\u001b[0m         \u001b[38;5;124m\"\u001b[39m\u001b[38;5;124mPart_Number\u001b[39m\u001b[38;5;124m\"\u001b[39m: Part_Number,\n\u001b[0;32m     23\u001b[0m         \u001b[38;5;124m\"\u001b[39m\u001b[38;5;124mLocation_City\u001b[39m\u001b[38;5;124m\"\u001b[39m: Location_City,\n\u001b[0;32m     24\u001b[0m         \u001b[38;5;124m\"\u001b[39m\u001b[38;5;124mInventory\u001b[39m\u001b[38;5;124m\"\u001b[39m: [Month_1,Month_2,Month_3,Month_4,Month_5,Month_6,Month_7,Month_8,Month_9,Month_10,Month_11,Month_12]\n\u001b[0;32m     25\u001b[0m     })\n",
      "\u001b[1;31mValueError\u001b[0m: not enough values to unpack (expected 14, got 11)"
     ]
    }
   ],
   "source": [
    "import pandas as pd\n",
    "from sqlalchemy import create_engine\n",
    "\n",
    "# Database connection details\n",
    "DB_USER = \"root\"\n",
    "DB_PASSWORD = \"asset\"\n",
    "DB_HOST = \"localhost\"  # Change if using a remote server\n",
    "DB_NAME = \"dev_srp_inventory\"\n",
    "TABLE_NAME = \"poland\"\n",
    "\n",
    "# Create a database connection\n",
    "engine = create_engine(f\"mysql+pymysql://{DB_USER}:{DB_PASSWORD}@{DB_HOST}/{DB_NAME}\")\n",
    "\n",
    "# SQL Query\n",
    "query = f\"SELECT Part_Number,Location_City,Month_1,Month_2,Month_3,Month_4,Month_5,Month_6,Month_7,Month_8,Month_9,Month_10,Month_11,Month_12 FROM {TABLE_NAME}\"  # Modify query as needed\n",
    "df = pd.read_sql(query, con=engine)\n",
    "df\n",
    "variable = []\n",
    "for row in df:\n",
    "    Part_Number,Location_City,Month_1,Month_2,Month_3,Month_4,Month_5,Month_6,Month_7,Month_8,Month_9,Month_10,Month_11,Month_12 = row\n",
    "    variable.append({\n",
    "        \"Part_Number\": Part_Number,\n",
    "        \"Location_City\": Location_City,\n",
    "        \"Inventory\": [Month_1,Month_2,Month_3,Month_4,Month_5,Month_6,Month_7,Month_8,Month_9,Month_10,Month_11,Month_12]\n",
    "    })"
   ]
  },
  {
   "cell_type": "code",
   "execution_count": null,
   "metadata": {},
   "outputs": [
    {
     "name": "stdout",
     "output_type": "stream",
     "text": [
      "[{'Part_Number': '21L2S4EG22', 'Location_City': 'KRAKOW', 'Inventory': [0, 0, 0, 0, 0, 0]}, {'Part_Number': '21L2S4EG22', 'Location_City': 'ALEKSANDROW LODZKI', 'Inventory': [0, 0, 0, 0, 0, 0]}, {'Part_Number': '21L2S4EG22', 'Location_City': 'BIELSKO BIALA', 'Inventory': [0, 0, 0, 0, 0, 0]}, {'Part_Number': '21L2S4EG22', 'Location_City': 'KRAKOW', 'Inventory': [0, 0, 0, 0, 0, 0]}, {'Part_Number': '21L2S4EG22', 'Location_City': 'WARSZAWA', 'Inventory': [0, 0, 0, 0, 0, 0]}, {'Part_Number': '21L2S4EG22', 'Location_City': 'WROCLAW', 'Inventory': [0, 0, 0, 0, 0, 0]}, {'Part_Number': '21L2S4EG22', 'Location_City': 'PRZASNYSZ', 'Inventory': [0, 0, 0, 0, 0, 0]}, {'Part_Number': '4X30M86918', 'Location_City': 'KRAKOW', 'Inventory': [0, 0, 0, 0, 0, 6]}, {'Part_Number': '4X20M26272', 'Location_City': 'KRAKOW', 'Inventory': [0, 0, 0, 0, 0, 17]}, {'Part_Number': '4X20M26272', 'Location_City': 'ALEKSANDROW LODZKI', 'Inventory': [0, 0, 0, 0, 0, 8]}, {'Part_Number': '4X20M26272', 'Location_City': 'BIELSKO BIALA', 'Inventory': [0, 0, 0, 0, 0, 0]}, {'Part_Number': '4X20M26272', 'Location_City': 'KRAKOW', 'Inventory': [0, 0, 0, 0, 0, 7]}, {'Part_Number': '4X20M26272', 'Location_City': 'WARSZAWA', 'Inventory': [0, 0, 0, 0, 0, 0]}, {'Part_Number': '4X20M26272', 'Location_City': 'WROCLAW', 'Inventory': [0, 0, 0, 0, 0, 1]}, {'Part_Number': '4X20M26272', 'Location_City': 'PRZASNYSZ', 'Inventory': [0, 0, 0, 0, 0, 0]}, {'Part_Number': '21KYS31M22', 'Location_City': 'KRAKOW', 'Inventory': [0, 0, 0, 0, 0, 0]}, {'Part_Number': '21KYS31M22', 'Location_City': 'ALEKSANDROW LODZKI', 'Inventory': [0, 0, 0, 0, 0, 0]}, {'Part_Number': '21KYS31M22', 'Location_City': 'BIELSKO BIALA', 'Inventory': [0, 0, 0, 0, 0, 0]}, {'Part_Number': '21KYS31M22', 'Location_City': 'KRAKOW', 'Inventory': [0, 0, 0, 0, 0, 0]}, {'Part_Number': '21KYS31M22', 'Location_City': 'WARSZAWA', 'Inventory': [0, 0, 0, 0, 0, 0]}, {'Part_Number': '21KYS31M22', 'Location_City': 'WROCLAW', 'Inventory': [0, 0, 0, 0, 0, 0]}, {'Part_Number': '21KYS31M22', 'Location_City': 'PRZASNYSZ', 'Inventory': [0, 0, 0, 0, 0, 0]}, {'Part_Number': '21LVS4NH22', 'Location_City': 'KRAKOW', 'Inventory': [0, 0, 0, 0, 0, 0]}, {'Part_Number': '21LVS4NH22', 'Location_City': 'ALEKSANDROW LODZKI', 'Inventory': [0, 0, 0, 0, 0, 0]}, {'Part_Number': '21LVS4NH22', 'Location_City': 'BIELSKO BIALA', 'Inventory': [0, 0, 0, 0, 0, 0]}, {'Part_Number': '21LVS4NH22', 'Location_City': 'KRAKOW', 'Inventory': [0, 0, 0, 0, 0, 0]}, {'Part_Number': '21LVS4NH22', 'Location_City': 'WARSZAWA', 'Inventory': [0, 0, 0, 0, 0, 0]}, {'Part_Number': '21LVS4NH22', 'Location_City': 'WROCLAW', 'Inventory': [0, 0, 0, 0, 0, 0]}, {'Part_Number': '21LVS4NH22', 'Location_City': 'PRZASNYSZ', 'Inventory': [0, 0, 0, 0, 0, 0]}, {'Part_Number': '63CFMARXEU', 'Location_City': '0', 'Inventory': [0, 0, 0, 0, 0, 0]}, {'Part_Number': '63CFMARXEU', 'Location_City': '0', 'Inventory': [0, 0, 0, 0, 0, 0]}, {'Part_Number': '63CFMARXEU', 'Location_City': '0', 'Inventory': [0, 0, 0, 0, 0, 0]}, {'Part_Number': '63CFMARXEU', 'Location_City': '0', 'Inventory': [0, 0, 0, 0, 0, 0]}, {'Part_Number': '63CFMARXEU', 'Location_City': '0', 'Inventory': [0, 0, 0, 0, 0, 0]}, {'Part_Number': '63CFMARXEU', 'Location_City': '0', 'Inventory': [0, 0, 0, 0, 0, 0]}, {'Part_Number': '63CFMARXEU', 'Location_City': '0', 'Inventory': [0, 0, 0, 0, 0, 0]}, {'Part_Number': '40AY0090EU', 'Location_City': 'KRAKOW', 'Inventory': [0, 0, 0, 0, 0, 33]}, {'Part_Number': '40AY0090EU', 'Location_City': 'ALEKSANDROW LODZKI', 'Inventory': [0, 0, 0, 0, 0, 5]}, {'Part_Number': '40AY0090EU', 'Location_City': 'BIELSKO BIALA', 'Inventory': [0, 0, 0, 0, 0, 7]}, {'Part_Number': '40AY0090EU', 'Location_City': 'KRAKOW', 'Inventory': [0, 0, 0, 0, 0, 5]}, {'Part_Number': '40AY0090EU', 'Location_City': 'WARSZAWA', 'Inventory': [0, 0, 0, 0, 0, 3]}, {'Part_Number': '40AY0090EU', 'Location_City': 'WROCLAW', 'Inventory': [0, 0, 0, 0, 0, 1]}, {'Part_Number': '40AY0090EU', 'Location_City': 'PRZASNYSZ', 'Inventory': [0, 0, 0, 0, 0, 2]}, {'Part_Number': '30G9S5WQ22', 'Location_City': 'KRAKOW', 'Inventory': [0, 0, 0, 0, 0, 3]}, {'Part_Number': '30G9S5WQ22', 'Location_City': 'ALEKSANDROW LODZKI', 'Inventory': [0, 0, 0, 0, 0, 11]}, {'Part_Number': '30G9S5WQ22', 'Location_City': 'BIELSKO BIALA', 'Inventory': [0, 0, 0, 0, 0, 1]}, {'Part_Number': '30G9S5WQ22', 'Location_City': 'KRAKOW', 'Inventory': [0, 0, 0, 0, 0, 3]}, {'Part_Number': '30G9S5WQ22', 'Location_City': 'WARSZAWA', 'Inventory': [0, 0, 0, 0, 0, 0]}, {'Part_Number': '30G9S5WQ22', 'Location_City': 'WROCLAW', 'Inventory': [0, 0, 0, 0, 0, 1]}, {'Part_Number': '30G9S5WQ22', 'Location_City': 'PRZASNYSZ', 'Inventory': [0, 0, 0, 0, 0, 2]}, {'Part_Number': '40B00300EU', 'Location_City': 'KRAKOW', 'Inventory': [0, 0, 0, 0, 0, 3]}, {'Part_Number': '40B00300EU', 'Location_City': 'ALEKSANDROW LODZKI', 'Inventory': [0, 0, 0, 0, 0, 3]}, {'Part_Number': '40B00300EU', 'Location_City': 'BIELSKO BIALA', 'Inventory': [0, 0, 0, 0, 0, 3]}, {'Part_Number': '40B00300EU', 'Location_City': 'KRAKOW', 'Inventory': [0, 0, 0, 0, 0, 5]}, {'Part_Number': '40B00300EU', 'Location_City': 'WARSZAWA', 'Inventory': [0, 0, 0, 0, 0, 2]}, {'Part_Number': '40B00300EU', 'Location_City': 'WROCLAW', 'Inventory': [0, 0, 0, 0, 0, 2]}, {'Part_Number': '40B00300EU', 'Location_City': 'PRZASNYSZ', 'Inventory': [0, 0, 0, 0, 0, 1]}, {'Part_Number': '12TES41Q1Z', 'Location_City': 'KRAKOW', 'Inventory': [0, 0, 0, 0, 0, 0]}, {'Part_Number': '12TES41Q1Z', 'Location_City': 'ALEKSANDROW LODZKI', 'Inventory': [0, 0, 0, 0, 0, 39]}, {'Part_Number': '12TES41Q1Z', 'Location_City': 'BIELSKO BIALA', 'Inventory': [0, 0, 0, 0, 0, 14]}, {'Part_Number': '12TES41Q1Z', 'Location_City': 'KRAKOW', 'Inventory': [0, 0, 0, 0, 0, 5]}, {'Part_Number': '12TES41Q1Z', 'Location_City': 'WARSZAWA', 'Inventory': [0, 0, 0, 0, 0, 0]}, {'Part_Number': '12TES41Q1Z', 'Location_City': 'WROCLAW', 'Inventory': [0, 0, 0, 0, 0, 0]}, {'Part_Number': '12TES41Q1Z', 'Location_City': 'PRZASNYSZ', 'Inventory': [0, 0, 0, 0, 0, 0]}, {'Part_Number': '4999-823-109', 'Location_City': '0', 'Inventory': [0, 0, 0, 0, 0, 0]}, {'Part_Number': '4999-823-109', 'Location_City': '0', 'Inventory': [0, 0, 0, 0, 0, 0]}, {'Part_Number': '4999-823-109', 'Location_City': '0', 'Inventory': [0, 0, 0, 0, 0, 0]}, {'Part_Number': '4999-823-109', 'Location_City': '0', 'Inventory': [0, 0, 0, 0, 0, 0]}, {'Part_Number': '4999-823-109', 'Location_City': '0', 'Inventory': [0, 0, 0, 0, 0, 0]}, {'Part_Number': '4999-823-109', 'Location_City': '0', 'Inventory': [0, 0, 0, 0, 0, 0]}, {'Part_Number': '4999-823-109', 'Location_City': '0', 'Inventory': [0, 0, 0, 0, 0, 0]}, {'Part_Number': '4X90S91831', 'Location_City': '0', 'Inventory': [0, 0, 0, 0, 0, 0]}, {'Part_Number': '4X90S91831', 'Location_City': 'ALEKSANDROW LODZKI', 'Inventory': [0, 0, 0, 0, 0, 0]}, {'Part_Number': '4X90S91831', 'Location_City': 'BIELSKO BIALA', 'Inventory': [0, 0, 0, 0, 0, 2]}, {'Part_Number': '4X90S91831', 'Location_City': 'KRAKOW', 'Inventory': [0, 0, 0, 0, 0, 0]}, {'Part_Number': '4X90S91831', 'Location_City': 'WARSZAWA', 'Inventory': [0, 0, 0, 0, 0, 6]}, {'Part_Number': '4X90S91831', 'Location_City': 'WROCLAW', 'Inventory': [0, 0, 0, 0, 0, 0]}, {'Part_Number': '4X90S91831', 'Location_City': 'PRZASNYSZ', 'Inventory': [0, 0, 0, 0, 0, 2]}, {'Part_Number': '12NBGAR1EU', 'Location_City': '0', 'Inventory': [0, 0, 0, 0, 0, 0]}, {'Part_Number': '12NBGAR1EU', 'Location_City': 'ALEKSANDROW LODZKI', 'Inventory': [0, 0, 0, 0, 0, 49]}, {'Part_Number': '12NBGAR1EU', 'Location_City': '0', 'Inventory': [0, 0, 0, 0, 0, 0]}, {'Part_Number': '12NBGAR1EU', 'Location_City': '0', 'Inventory': [0, 0, 0, 0, 0, 0]}, {'Part_Number': '12NBGAR1EU', 'Location_City': '0', 'Inventory': [0, 0, 0, 0, 0, 0]}, {'Part_Number': '12NBGAR1EU', 'Location_City': '0', 'Inventory': [0, 0, 0, 0, 0, 0]}, {'Part_Number': '12NBGAR1EU', 'Location_City': 'PRZASNYSZ', 'Inventory': [0, 0, 0, 0, 0, 0]}, {'Part_Number': '1E4-00002', 'Location_City': '0', 'Inventory': [0, 0, 0, 0, 0, 0]}, {'Part_Number': '1E4-00002', 'Location_City': 'ALEKSANDROW LODZKI', 'Inventory': [0, 0, 0, 0, 0, 0]}, {'Part_Number': '1E4-00002', 'Location_City': '0', 'Inventory': [0, 0, 0, 0, 0, 0]}, {'Part_Number': '1E4-00002', 'Location_City': '0', 'Inventory': [0, 0, 0, 0, 0, 0]}, {'Part_Number': '1E4-00002', 'Location_City': 'WARSZAWA', 'Inventory': [0, 0, 0, 0, 0, 0]}, {'Part_Number': '1E4-00002', 'Location_City': '0', 'Inventory': [0, 0, 0, 0, 0, 0]}, {'Part_Number': '1E4-00002', 'Location_City': '0', 'Inventory': [0, 0, 0, 0, 0, 0]}, {'Part_Number': '4XF1A19885', 'Location_City': '0', 'Inventory': [0, 0, 0, 0, 0, 0]}, {'Part_Number': '4XF1A19885', 'Location_City': 'ALEKSANDROW LODZKI', 'Inventory': [0, 0, 0, 0, 0, 1]}, {'Part_Number': '4XF1A19885', 'Location_City': '0', 'Inventory': [0, 0, 0, 0, 0, 0]}, {'Part_Number': '4XF1A19885', 'Location_City': 'KRAKOW', 'Inventory': [0, 0, 0, 0, 0, 1]}, {'Part_Number': '4XF1A19885', 'Location_City': 'WARSZAWA', 'Inventory': [0, 0, 0, 0, 0, 2]}, {'Part_Number': '4XF1A19885', 'Location_City': '0', 'Inventory': [0, 0, 0, 0, 0, 0]}, {'Part_Number': '4XF1A19885', 'Location_City': '0', 'Inventory': [0, 0, 0, 0, 0, 0]}, {'Part_Number': '4Z10P40249', 'Location_City': '0', 'Inventory': [0, 0, 0, 0, 0, 0]}, {'Part_Number': '4Z10P40249', 'Location_City': '0', 'Inventory': [0, 0, 0, 0, 0, 0]}, {'Part_Number': '4Z10P40249', 'Location_City': 'BIELSKO BIALA', 'Inventory': [0, 0, 0, 0, 0, 0]}, {'Part_Number': '4Z10P40249', 'Location_City': '0', 'Inventory': [0, 0, 0, 0, 0, 0]}, {'Part_Number': '4Z10P40249', 'Location_City': '0', 'Inventory': [0, 0, 0, 0, 0, 0]}, {'Part_Number': '4Z10P40249', 'Location_City': '0', 'Inventory': [0, 0, 0, 0, 0, 0]}, {'Part_Number': '4Z10P40249', 'Location_City': '0', 'Inventory': [0, 0, 0, 0, 0, 0]}, {'Part_Number': '63CFMAR3EU', 'Location_City': 'KRAKOW', 'Inventory': [0, 0, 0, 0, 0, 0]}, {'Part_Number': '63CFMAR3EU', 'Location_City': 'ALEKSANDROW LODZKI', 'Inventory': [0, 0, 0, 0, 0, 11]}, {'Part_Number': '63CFMAR3EU', 'Location_City': 'BIELSKO BIALA', 'Inventory': [0, 0, 0, 0, 0, 9]}, {'Part_Number': '63CFMAR3EU', 'Location_City': 'KRAKOW', 'Inventory': [0, 0, 0, 0, 0, 20]}, {'Part_Number': '63CFMAR3EU', 'Location_City': 'WARSZAWA', 'Inventory': [0, 0, 0, 0, 0, 0]}, {'Part_Number': '63CFMAR3EU', 'Location_City': 'WROCLAW', 'Inventory': [0, 0, 0, 0, 0, 0]}, {'Part_Number': '63CFMAR3EU', 'Location_City': 'PRZASNYSZ', 'Inventory': [0, 0, 0, 0, 0, 0]}, {'Part_Number': '4X40E77328', 'Location_City': '0', 'Inventory': [0, 0, 0, 0, 0, 0]}, {'Part_Number': '4X40E77328', 'Location_City': '0', 'Inventory': [0, 0, 0, 0, 0, 0]}, {'Part_Number': '4X40E77328', 'Location_City': '0', 'Inventory': [0, 0, 0, 0, 0, 0]}, {'Part_Number': '4X40E77328', 'Location_City': '0', 'Inventory': [0, 0, 0, 0, 0, 0]}, {'Part_Number': '4X40E77328', 'Location_City': '0', 'Inventory': [0, 0, 0, 0, 0, 0]}, {'Part_Number': '4X40E77328', 'Location_City': '0', 'Inventory': [0, 0, 0, 0, 0, 0]}, {'Part_Number': '4X40E77328', 'Location_City': '0', 'Inventory': [0, 0, 0, 0, 0, 0]}, {'Part_Number': '4Z10P40247', 'Location_City': 'KRAKOW', 'Inventory': [0, 0, 0, 0, 0, 0]}, {'Part_Number': '4Z10P40247', 'Location_City': '0', 'Inventory': [0, 0, 0, 0, 0, 0]}, {'Part_Number': '4Z10P40247', 'Location_City': 'BIELSKO BIALA', 'Inventory': [0, 0, 0, 0, 0, 0]}, {'Part_Number': '4Z10P40247', 'Location_City': 'KRAKOW', 'Inventory': [0, 0, 0, 0, 0, 0]}, {'Part_Number': '4Z10P40247', 'Location_City': 'WARSZAWA', 'Inventory': [0, 0, 0, 0, 0, 0]}, {'Part_Number': '4Z10P40247', 'Location_City': '0', 'Inventory': [0, 0, 0, 0, 0, 0]}, {'Part_Number': '4Z10P40247', 'Location_City': '0', 'Inventory': [0, 0, 0, 0, 0, 0]}, {'Part_Number': '0A61769', 'Location_City': 'KRAKOW', 'Inventory': [0, 0, 0, 0, 0, 0]}, {'Part_Number': '0A61769', 'Location_City': 'ALEKSANDROW LODZKI', 'Inventory': [0, 0, 0, 0, 0, 0]}, {'Part_Number': '0A61769', 'Location_City': 'BIELSKO BIALA', 'Inventory': [0, 0, 0, 0, 0, 0]}, {'Part_Number': '0A61769', 'Location_City': 'KRAKOW', 'Inventory': [0, 0, 0, 0, 0, 0]}, {'Part_Number': '0A61769', 'Location_City': 'WARSZAWA', 'Inventory': [0, 0, 0, 0, 0, 0]}, {'Part_Number': '0A61769', 'Location_City': 'WROCLAW', 'Inventory': [0, 0, 0, 0, 0, 0]}, {'Part_Number': '0A61769', 'Location_City': 'PRZASNYSZ', 'Inventory': [0, 0, 0, 0, 0, 0]}, {'Part_Number': '62CDGAR6EU', 'Location_City': '0', 'Inventory': [0, 0, 0, 0, 0, 0]}, {'Part_Number': '62CDGAR6EU', 'Location_City': '0', 'Inventory': [0, 0, 0, 0, 0, 0]}, {'Part_Number': '62CDGAR6EU', 'Location_City': '0', 'Inventory': [0, 0, 0, 0, 0, 0]}, {'Part_Number': '62CDGAR6EU', 'Location_City': 'KRAKOW', 'Inventory': [0, 0, 0, 0, 0, 0]}, {'Part_Number': '62CDGAR6EU', 'Location_City': 'WARSZAWA', 'Inventory': [0, 0, 0, 0, 0, 0]}, {'Part_Number': '62CDGAR6EU', 'Location_City': '0', 'Inventory': [0, 0, 0, 0, 0, 0]}, {'Part_Number': '62CDGAR6EU', 'Location_City': '0', 'Inventory': [0, 0, 0, 0, 0, 0]}, {'Part_Number': '4X20E50578', 'Location_City': '0', 'Inventory': [0, 0, 0, 0, 0, 0]}, {'Part_Number': '4X20E50578', 'Location_City': '0', 'Inventory': [0, 0, 0, 0, 0, 0]}, {'Part_Number': '4X20E50578', 'Location_City': '0', 'Inventory': [0, 0, 0, 0, 0, 0]}, {'Part_Number': '4X20E50578', 'Location_City': '0', 'Inventory': [0, 0, 0, 0, 0, 0]}, {'Part_Number': '4X20E50578', 'Location_City': '0', 'Inventory': [0, 0, 0, 0, 0, 0]}, {'Part_Number': '4X20E50578', 'Location_City': '0', 'Inventory': [0, 0, 0, 0, 0, 0]}, {'Part_Number': '4X20E50578', 'Location_City': '0', 'Inventory': [0, 0, 0, 0, 0, 0]}, {'Part_Number': '4X20S56701', 'Location_City': 'KRAKOW', 'Inventory': [0, 0, 0, 0, 0, 0]}, {'Part_Number': '4X20S56701', 'Location_City': 'ALEKSANDROW LODZKI', 'Inventory': [0, 0, 0, 0, 0, 0]}, {'Part_Number': '4X20S56701', 'Location_City': '0', 'Inventory': [0, 0, 0, 0, 0, 0]}, {'Part_Number': '4X20S56701', 'Location_City': '0', 'Inventory': [0, 0, 0, 0, 0, 0]}, {'Part_Number': '4X20S56701', 'Location_City': 'WARSZAWA', 'Inventory': [0, 0, 0, 0, 0, 0]}, {'Part_Number': '4X20S56701', 'Location_City': '0', 'Inventory': [0, 0, 0, 0, 0, 0]}, {'Part_Number': '4X20S56701', 'Location_City': 'PRZASNYSZ', 'Inventory': [0, 0, 0, 0, 0, 0]}, {'Part_Number': '4XJ1K79631', 'Location_City': '0', 'Inventory': [0, 0, 0, 0, 0, 0]}, {'Part_Number': '4XJ1K79631', 'Location_City': 'ALEKSANDROW LODZKI', 'Inventory': [0, 0, 0, 0, 0, 0]}, {'Part_Number': '4XJ1K79631', 'Location_City': '0', 'Inventory': [0, 0, 0, 0, 0, 0]}, {'Part_Number': '4XJ1K79631', 'Location_City': '0', 'Inventory': [0, 0, 0, 0, 0, 0]}, {'Part_Number': '4XJ1K79631', 'Location_City': '0', 'Inventory': [0, 0, 0, 0, 0, 0]}, {'Part_Number': '4XJ1K79631', 'Location_City': '0', 'Inventory': [0, 0, 0, 0, 0, 0]}, {'Part_Number': '4XJ1K79631', 'Location_City': '0', 'Inventory': [0, 0, 0, 0, 0, 0]}, {'Part_Number': '4XJ1M77975', 'Location_City': 'KRAKOW', 'Inventory': [0, 0, 0, 0, 0, 0]}, {'Part_Number': '4XJ1M77975', 'Location_City': 'ALEKSANDROW LODZKI', 'Inventory': [0, 0, 0, 0, 0, 0]}, {'Part_Number': '4XJ1M77975', 'Location_City': 'BIELSKO BIALA', 'Inventory': [0, 0, 0, 0, 0, 0]}, {'Part_Number': '4XJ1M77975', 'Location_City': 'KRAKOW', 'Inventory': [0, 0, 0, 0, 0, 0]}, {'Part_Number': '4XJ1M77975', 'Location_City': 'WARSZAWA', 'Inventory': [0, 0, 0, 0, 0, 0]}, {'Part_Number': '4XJ1M77975', 'Location_City': 'WROCLAW', 'Inventory': [0, 0, 0, 0, 0, 0]}, {'Part_Number': '4XJ1M77975', 'Location_City': 'PRZASNYSZ', 'Inventory': [0, 0, 0, 0, 0, 0]}]\n"
     ]
    }
   ],
   "source": [
    "import pandas as pd\n",
    "from sqlalchemy import create_engine\n",
    "\n",
    "# Database connection details\n",
    "DB_USER = \"root\"\n",
    "DB_PASSWORD = \"asset\"\n",
    "DB_HOST = \"localhost\"  # Change if using a remote server\n",
    "DB_NAME = \"dev_srp_inventory\"\n",
    "TABLE_NAME = \"poland\"\n",
    "\n",
    "# Create a database connection\n",
    "engine = create_engine(f\"mysql+pymysql://{DB_USER}:{DB_PASSWORD}@{DB_HOST}/{DB_NAME}\")\n",
    "\n",
    "# SQL Query\n",
    "query = f\"SELECT Part_Number, Location_City, Month_1, Month_2, Month_3, Month_4, Month_5, Month_6, Month_7, Month_8, Month_9, Month_10, Month_11, Month_12 FROM {TABLE_NAME}\"\n",
    "df = pd.read_sql(query, con=engine)\n",
    "\n",
    "variable1 = []\n",
    "for index, row in df.iterrows():\n",
    "    variable1.append({\n",
    "        \"Part_Number\": row[\"Part_Number\"],\n",
    "        \"Location_City\": row[\"Location_City\"],\n",
    "        \"Inventory\": [\n",
    "             row[\"Month_7\"], row[\"Month_8\"], row[\"Month_9\"], row[\"Month_10\"],\n",
    "            row[\"Month_11\"], row[\"Month_12\"]\n",
    "        ]\n",
    "    })\n",
    "\n",
    "# Print or use the variable as neede\n",
    "# print(variable1)"
   ]
  },
  {
   "cell_type": "code",
   "execution_count": 27,
   "metadata": {},
   "outputs": [
    {
     "name": "stdout",
     "output_type": "stream",
     "text": [
      "[{'Part_Number': '21L2S4EG22', 'Location_City': 'KRAKOW', 'demand': [34, 38, 36, 30, 51, 48]}, {'Part_Number': '21L2S4EG22', 'Location_City': 'ALEKSANDROW LODZKI', 'demand': [1, 3, 4, 0, 0, 3]}, {'Part_Number': '21L2S4EG22', 'Location_City': 'BIELSKO BIALA', 'demand': [0, 3, 0, 0, 3, 2]}, {'Part_Number': '21L2S4EG22', 'Location_City': 'KRAKOW', 'demand': [3, 4, 3, 4, 3, 2]}, {'Part_Number': '21L2S4EG22', 'Location_City': 'WARSZAWA', 'demand': [12, 0, 0, 0, 1, 0]}, {'Part_Number': '21L2S4EG22', 'Location_City': 'WROCLAW', 'demand': [1, 0, 0, 1, 0, 3]}, {'Part_Number': '21L2S4EG22', 'Location_City': 'PRZASNYSZ', 'demand': [1, 0, 4, 0, 3, 0]}, {'Part_Number': '4X30M86918', 'Location_City': 'KRAKOW', 'demand': [3, 1, 3, 4, 6, 9]}, {'Part_Number': '4X20M26272', 'Location_City': 'KRAKOW', 'demand': [3, 6, 10, 5, 6, 3]}, {'Part_Number': '4X20M26272', 'Location_City': 'ALEKSANDROW LODZKI', 'demand': [2, 10, 3, 0, 2, 0]}, {'Part_Number': '4X20M26272', 'Location_City': 'BIELSKO BIALA', 'demand': [0, 0, 0, 0, 0, 0]}, {'Part_Number': '4X20M26272', 'Location_City': 'KRAKOW', 'demand': [3, 0, 0, 0, 0, 5]}, {'Part_Number': '4X20M26272', 'Location_City': 'WARSZAWA', 'demand': [1, 0, 1, 0, 1, 1]}, {'Part_Number': '4X20M26272', 'Location_City': 'WROCLAW', 'demand': [0, 0, 0, 0, 0, 0]}, {'Part_Number': '4X20M26272', 'Location_City': 'PRZASNYSZ', 'demand': [0, 0, 0, 0, 0, 0]}, {'Part_Number': '21KYS31M22', 'Location_City': 'KRAKOW', 'demand': [3, 4, 6, 2, 5, 3]}, {'Part_Number': '21KYS31M22', 'Location_City': 'ALEKSANDROW LODZKI', 'demand': [0, 2, 3, 2, 1, 3]}, {'Part_Number': '21KYS31M22', 'Location_City': 'BIELSKO BIALA', 'demand': [0, 0, 1, 0, 6, 2]}, {'Part_Number': '21KYS31M22', 'Location_City': 'KRAKOW', 'demand': [2, 3, 4, 4, 3, 4]}, {'Part_Number': '21KYS31M22', 'Location_City': 'WARSZAWA', 'demand': [2, 0, 2, 0, 0, 0]}, {'Part_Number': '21KYS31M22', 'Location_City': 'WROCLAW', 'demand': [1, 0, 1, 0, 0, 1]}, {'Part_Number': '21KYS31M22', 'Location_City': 'PRZASNYSZ', 'demand': [1, 0, 0, 0, 0, 0]}, {'Part_Number': '21LVS4NH22', 'Location_City': 'KRAKOW', 'demand': [0, 1, 0, 1, 0, 4]}, {'Part_Number': '21LVS4NH22', 'Location_City': 'ALEKSANDROW LODZKI', 'demand': [1, 2, 0, 0, 2, 0]}, {'Part_Number': '21LVS4NH22', 'Location_City': 'BIELSKO BIALA', 'demand': [0, 0, 0, 0, 0, 0]}, {'Part_Number': '21LVS4NH22', 'Location_City': 'KRAKOW', 'demand': [1, 1, 1, 0, 1, 0]}, {'Part_Number': '21LVS4NH22', 'Location_City': 'WARSZAWA', 'demand': [0, 0, 0, 0, 0, 1]}, {'Part_Number': '21LVS4NH22', 'Location_City': 'WROCLAW', 'demand': [0, 0, 0, 0, 0, 0]}, {'Part_Number': '21LVS4NH22', 'Location_City': 'PRZASNYSZ', 'demand': [0, 0, 0, 0, 0, 0]}, {'Part_Number': '63CFMARXEU', 'Location_City': '0', 'demand': [0, 0, 0, 0, 0, 1]}, {'Part_Number': '63CFMARXEU', 'Location_City': '0', 'demand': [0, 1, 2, 7, 6, 4]}, {'Part_Number': '63CFMARXEU', 'Location_City': '0', 'demand': [0, 1, 3, 2, 7, 3]}, {'Part_Number': '63CFMARXEU', 'Location_City': '0', 'demand': [0, 0, 0, 0, 1, 2]}, {'Part_Number': '63CFMARXEU', 'Location_City': '0', 'demand': [0, 0, 0, 1, 1, 0]}, {'Part_Number': '63CFMARXEU', 'Location_City': '0', 'demand': [0, 2, 0, 0, 0, 0]}, {'Part_Number': '63CFMARXEU', 'Location_City': '0', 'demand': [3, 1, 0, 1, 7, 0]}, {'Part_Number': '40AY0090EU', 'Location_City': 'KRAKOW', 'demand': [0, 0, 0, 1, 0, 0]}, {'Part_Number': '40AY0090EU', 'Location_City': 'ALEKSANDROW LODZKI', 'demand': [1, 1, 3, 1, 2, 3]}, {'Part_Number': '40AY0090EU', 'Location_City': 'BIELSKO BIALA', 'demand': [0, 3, 0, 0, 3, 2]}, {'Part_Number': '40AY0090EU', 'Location_City': 'KRAKOW', 'demand': [1, 0, 0, 1, 3, 0]}, {'Part_Number': '40AY0090EU', 'Location_City': 'WARSZAWA', 'demand': [0, 1, 0, 0, 0, 0]}, {'Part_Number': '40AY0090EU', 'Location_City': 'WROCLAW', 'demand': [0, 0, 0, 0, 0, 1]}, {'Part_Number': '40AY0090EU', 'Location_City': 'PRZASNYSZ', 'demand': [0, 0, 0, 1, 3, 0]}, {'Part_Number': '30G9S5WQ22', 'Location_City': 'KRAKOW', 'demand': [0, 0, 0, 0, 0, 0]}, {'Part_Number': '30G9S5WQ22', 'Location_City': 'ALEKSANDROW LODZKI', 'demand': [0, 2, 0, 0, 0, 0]}, {'Part_Number': '30G9S5WQ22', 'Location_City': 'BIELSKO BIALA', 'demand': [0, 0, 0, 0, 0, 2]}, {'Part_Number': '30G9S5WQ22', 'Location_City': 'KRAKOW', 'demand': [0, 0, 0, 0, 0, 0]}, {'Part_Number': '30G9S5WQ22', 'Location_City': 'WARSZAWA', 'demand': [1, 0, 0, 0, 0, 0]}, {'Part_Number': '30G9S5WQ22', 'Location_City': 'WROCLAW', 'demand': [0, 0, 0, 0, 0, 0]}, {'Part_Number': '30G9S5WQ22', 'Location_City': 'PRZASNYSZ', 'demand': [0, 0, 0, 0, 0, 0]}, {'Part_Number': '40B00300EU', 'Location_City': 'KRAKOW', 'demand': [0, 0, 0, 0, 0, 0]}, {'Part_Number': '40B00300EU', 'Location_City': 'ALEKSANDROW LODZKI', 'demand': [1, 3, 3, 3, 2, 0]}, {'Part_Number': '40B00300EU', 'Location_City': 'BIELSKO BIALA', 'demand': [0, 2, 1, 0, 6, 2]}, {'Part_Number': '40B00300EU', 'Location_City': 'KRAKOW', 'demand': [0, 0, 2, 1, 2, 0]}, {'Part_Number': '40B00300EU', 'Location_City': 'WARSZAWA', 'demand': [0, 0, 1, 0, 0, 0]}, {'Part_Number': '40B00300EU', 'Location_City': 'WROCLAW', 'demand': [0, 0, 0, 1, 0, 0]}, {'Part_Number': '40B00300EU', 'Location_City': 'PRZASNYSZ', 'demand': [1, 0, 0, 0, 1, 0]}, {'Part_Number': '12TES41Q1Z', 'Location_City': 'KRAKOW', 'demand': [0, 0, 1, 0, 0, 1]}, {'Part_Number': '12TES41Q1Z', 'Location_City': 'ALEKSANDROW LODZKI', 'demand': [0, 0, 0, 0, 2, 0]}, {'Part_Number': '12TES41Q1Z', 'Location_City': 'BIELSKO BIALA', 'demand': [0, 0, 0, 0, 0, 0]}, {'Part_Number': '12TES41Q1Z', 'Location_City': 'KRAKOW', 'demand': [0, 0, 0, 2, 0, 0]}, {'Part_Number': '12TES41Q1Z', 'Location_City': 'WARSZAWA', 'demand': [0, 0, 0, 0, 0, 0]}, {'Part_Number': '12TES41Q1Z', 'Location_City': 'WROCLAW', 'demand': [0, 0, 0, 0, 0, 0]}, {'Part_Number': '12TES41Q1Z', 'Location_City': 'PRZASNYSZ', 'demand': [0, 0, 0, 0, 0, 0]}, {'Part_Number': '4999-823-109', 'Location_City': '0', 'demand': [0, 0, 0, 0, 0, 1]}, {'Part_Number': '4999-823-109', 'Location_City': '0', 'demand': [0, 0, 0, 0, 0, 0]}, {'Part_Number': '4999-823-109', 'Location_City': '0', 'demand': [0, 0, 0, 0, 0, 0]}, {'Part_Number': '4999-823-109', 'Location_City': '0', 'demand': [0, 0, 0, 0, 0, 0]}, {'Part_Number': '4999-823-109', 'Location_City': '0', 'demand': [0, 0, 0, 0, 0, 0]}, {'Part_Number': '4999-823-109', 'Location_City': '0', 'demand': [0, 0, 0, 0, 0, 0]}, {'Part_Number': '4999-823-109', 'Location_City': '0', 'demand': [0, 0, 0, 0, 0, 0]}, {'Part_Number': '4X90S91831', 'Location_City': '0', 'demand': [0, 0, 0, 0, 0, 0]}, {'Part_Number': '4X90S91831', 'Location_City': 'ALEKSANDROW LODZKI', 'demand': [1, 1, 1, 1, 0, 0]}, {'Part_Number': '4X90S91831', 'Location_City': 'BIELSKO BIALA', 'demand': [0, 0, 0, 0, 0, 0]}, {'Part_Number': '4X90S91831', 'Location_City': 'KRAKOW', 'demand': [0, 0, 0, 0, 7, 0]}, {'Part_Number': '4X90S91831', 'Location_City': 'WARSZAWA', 'demand': [0, 0, 0, 0, 0, 0]}, {'Part_Number': '4X90S91831', 'Location_City': 'WROCLAW', 'demand': [0, 0, 0, 0, 0, 1]}, {'Part_Number': '4X90S91831', 'Location_City': 'PRZASNYSZ', 'demand': [0, 0, 0, 0, 0, 0]}, {'Part_Number': '12NBGAR1EU', 'Location_City': '0', 'demand': [0, 0, 0, 0, 0, 0]}, {'Part_Number': '12NBGAR1EU', 'Location_City': 'ALEKSANDROW LODZKI', 'demand': [0, 2, 0, 0, 3, 0]}, {'Part_Number': '12NBGAR1EU', 'Location_City': '0', 'demand': [0, 0, 0, 0, 0, 0]}, {'Part_Number': '12NBGAR1EU', 'Location_City': '0', 'demand': [0, 0, 0, 0, 0, 0]}, {'Part_Number': '12NBGAR1EU', 'Location_City': '0', 'demand': [0, 0, 0, 0, 0, 0]}, {'Part_Number': '12NBGAR1EU', 'Location_City': '0', 'demand': [0, 0, 0, 0, 0, 0]}, {'Part_Number': '12NBGAR1EU', 'Location_City': 'PRZASNYSZ', 'demand': [0, 0, 0, 0, 4, 0]}, {'Part_Number': '1E4-00002', 'Location_City': '0', 'demand': [0, 0, 0, 0, 0, 0]}, {'Part_Number': '1E4-00002', 'Location_City': 'ALEKSANDROW LODZKI', 'demand': [0, 0, 0, 0, 1, 0]}, {'Part_Number': '1E4-00002', 'Location_City': '0', 'demand': [0, 0, 0, 0, 0, 0]}, {'Part_Number': '1E4-00002', 'Location_City': '0', 'demand': [0, 0, 0, 0, 0, 0]}, {'Part_Number': '1E4-00002', 'Location_City': 'WARSZAWA', 'demand': [0, 0, 0, 0, 0, 0]}, {'Part_Number': '1E4-00002', 'Location_City': '0', 'demand': [0, 0, 0, 0, 0, 0]}, {'Part_Number': '1E4-00002', 'Location_City': '0', 'demand': [0, 0, 0, 0, 0, 0]}, {'Part_Number': '4XF1A19885', 'Location_City': '0', 'demand': [0, 0, 0, 0, 0, 0]}, {'Part_Number': '4XF1A19885', 'Location_City': 'ALEKSANDROW LODZKI', 'demand': [0, 0, 0, 1, 0, 0]}, {'Part_Number': '4XF1A19885', 'Location_City': '0', 'demand': [0, 0, 0, 0, 0, 0]}, {'Part_Number': '4XF1A19885', 'Location_City': 'KRAKOW', 'demand': [0, 0, 0, 0, 0, 0]}, {'Part_Number': '4XF1A19885', 'Location_City': 'WARSZAWA', 'demand': [0, 0, 0, 0, 0, 0]}, {'Part_Number': '4XF1A19885', 'Location_City': '0', 'demand': [0, 0, 0, 0, 0, 0]}, {'Part_Number': '4XF1A19885', 'Location_City': '0', 'demand': [0, 0, 0, 0, 0, 0]}, {'Part_Number': '4Z10P40249', 'Location_City': '0', 'demand': [0, 0, 0, 0, 0, 0]}, {'Part_Number': '4Z10P40249', 'Location_City': '0', 'demand': [0, 0, 0, 0, 0, 0]}, {'Part_Number': '4Z10P40249', 'Location_City': 'BIELSKO BIALA', 'demand': [0, 1, 0, 1, 0, 0]}, {'Part_Number': '4Z10P40249', 'Location_City': '0', 'demand': [0, 0, 0, 0, 0, 0]}, {'Part_Number': '4Z10P40249', 'Location_City': '0', 'demand': [0, 0, 0, 0, 0, 0]}, {'Part_Number': '4Z10P40249', 'Location_City': '0', 'demand': [0, 0, 0, 0, 0, 0]}, {'Part_Number': '4Z10P40249', 'Location_City': '0', 'demand': [0, 0, 0, 0, 0, 0]}, {'Part_Number': '63CFMAR3EU', 'Location_City': 'KRAKOW', 'demand': [0, 0, 0, 0, 0, 0]}, {'Part_Number': '63CFMAR3EU', 'Location_City': 'ALEKSANDROW LODZKI', 'demand': [5, 2, 2, 0, 0, 0]}, {'Part_Number': '63CFMAR3EU', 'Location_City': 'BIELSKO BIALA', 'demand': [1, 1, 0, 0, 0, 0]}, {'Part_Number': '63CFMAR3EU', 'Location_City': 'KRAKOW', 'demand': [2, 2, 0, 0, 0, 0]}, {'Part_Number': '63CFMAR3EU', 'Location_City': 'WARSZAWA', 'demand': [2, 0, 0, 0, 0, 0]}, {'Part_Number': '63CFMAR3EU', 'Location_City': 'WROCLAW', 'demand': [0, 0, 0, 0, 0, 0]}, {'Part_Number': '63CFMAR3EU', 'Location_City': 'PRZASNYSZ', 'demand': [0, 0, 1, 0, 0, 0]}, {'Part_Number': '4X40E77328', 'Location_City': '0', 'demand': [0, 0, 0, 0, 0, 0]}, {'Part_Number': '4X40E77328', 'Location_City': '0', 'demand': [0, 0, 1, 0, 0, 0]}, {'Part_Number': '4X40E77328', 'Location_City': '0', 'demand': [0, 0, 0, 0, 0, 0]}, {'Part_Number': '4X40E77328', 'Location_City': '0', 'demand': [0, 0, 0, 0, 0, 0]}, {'Part_Number': '4X40E77328', 'Location_City': '0', 'demand': [0, 0, 0, 0, 0, 0]}, {'Part_Number': '4X40E77328', 'Location_City': '0', 'demand': [0, 0, 0, 0, 0, 0]}, {'Part_Number': '4X40E77328', 'Location_City': '0', 'demand': [0, 0, 0, 0, 0, 0]}, {'Part_Number': '4Z10P40247', 'Location_City': 'KRAKOW', 'demand': [0, 0, 0, 0, 0, 0]}, {'Part_Number': '4Z10P40247', 'Location_City': '0', 'demand': [0, 0, 0, 0, 0, 0]}, {'Part_Number': '4Z10P40247', 'Location_City': 'BIELSKO BIALA', 'demand': [0, 4, 0, 0, 0, 0]}, {'Part_Number': '4Z10P40247', 'Location_City': 'KRAKOW', 'demand': [0, 0, 0, 0, 0, 0]}, {'Part_Number': '4Z10P40247', 'Location_City': 'WARSZAWA', 'demand': [0, 0, 0, 0, 0, 0]}, {'Part_Number': '4Z10P40247', 'Location_City': '0', 'demand': [0, 0, 0, 0, 0, 0]}, {'Part_Number': '4Z10P40247', 'Location_City': '0', 'demand': [0, 0, 0, 0, 0, 0]}, {'Part_Number': '0A61769', 'Location_City': 'KRAKOW', 'demand': [0, 0, 0, 0, 0, 0]}, {'Part_Number': '0A61769', 'Location_City': 'ALEKSANDROW LODZKI', 'demand': [1, 2, 0, 0, 0, 0]}, {'Part_Number': '0A61769', 'Location_City': 'BIELSKO BIALA', 'demand': [0, 0, 0, 0, 0, 0]}, {'Part_Number': '0A61769', 'Location_City': 'KRAKOW', 'demand': [0, 0, 0, 0, 0, 0]}, {'Part_Number': '0A61769', 'Location_City': 'WARSZAWA', 'demand': [0, 0, 0, 0, 0, 0]}, {'Part_Number': '0A61769', 'Location_City': 'WROCLAW', 'demand': [0, 0, 0, 0, 0, 0]}, {'Part_Number': '0A61769', 'Location_City': 'PRZASNYSZ', 'demand': [0, 0, 0, 0, 0, 0]}, {'Part_Number': '62CDGAR6EU', 'Location_City': '0', 'demand': [0, 0, 0, 0, 0, 0]}, {'Part_Number': '62CDGAR6EU', 'Location_City': '0', 'demand': [1, 0, 0, 0, 0, 0]}, {'Part_Number': '62CDGAR6EU', 'Location_City': '0', 'demand': [2, 0, 0, 0, 0, 0]}, {'Part_Number': '62CDGAR6EU', 'Location_City': 'KRAKOW', 'demand': [0, 0, 0, 0, 0, 0]}, {'Part_Number': '62CDGAR6EU', 'Location_City': 'WARSZAWA', 'demand': [0, 1, 0, 0, 0, 0]}, {'Part_Number': '62CDGAR6EU', 'Location_City': '0', 'demand': [0, 0, 0, 0, 0, 0]}, {'Part_Number': '62CDGAR6EU', 'Location_City': '0', 'demand': [0, 2, 0, 0, 0, 0]}, {'Part_Number': '4X20E50578', 'Location_City': '0', 'demand': [0, 1, 0, 0, 0, 0]}, {'Part_Number': '4X20E50578', 'Location_City': '0', 'demand': [0, 0, 0, 0, 0, 0]}, {'Part_Number': '4X20E50578', 'Location_City': '0', 'demand': [0, 0, 0, 0, 0, 0]}, {'Part_Number': '4X20E50578', 'Location_City': '0', 'demand': [0, 0, 0, 0, 0, 0]}, {'Part_Number': '4X20E50578', 'Location_City': '0', 'demand': [0, 0, 0, 0, 0, 0]}, {'Part_Number': '4X20E50578', 'Location_City': '0', 'demand': [0, 0, 0, 0, 0, 0]}, {'Part_Number': '4X20E50578', 'Location_City': '0', 'demand': [0, 0, 0, 0, 0, 0]}, {'Part_Number': '4X20S56701', 'Location_City': 'KRAKOW', 'demand': [1, 0, 0, 0, 0, 0]}, {'Part_Number': '4X20S56701', 'Location_City': 'ALEKSANDROW LODZKI', 'demand': [0, 0, 0, 0, 0, 0]}, {'Part_Number': '4X20S56701', 'Location_City': '0', 'demand': [0, 0, 0, 0, 0, 0]}, {'Part_Number': '4X20S56701', 'Location_City': '0', 'demand': [0, 0, 0, 0, 0, 0]}, {'Part_Number': '4X20S56701', 'Location_City': 'WARSZAWA', 'demand': [0, 1, 0, 0, 0, 0]}, {'Part_Number': '4X20S56701', 'Location_City': '0', 'demand': [0, 0, 0, 0, 0, 0]}, {'Part_Number': '4X20S56701', 'Location_City': 'PRZASNYSZ', 'demand': [0, 1, 0, 0, 0, 0]}, {'Part_Number': '4XJ1K79631', 'Location_City': '0', 'demand': [0, 0, 0, 0, 0, 0]}, {'Part_Number': '4XJ1K79631', 'Location_City': 'ALEKSANDROW LODZKI', 'demand': [0, 1, 0, 0, 0, 0]}, {'Part_Number': '4XJ1K79631', 'Location_City': '0', 'demand': [0, 0, 0, 0, 0, 0]}, {'Part_Number': '4XJ1K79631', 'Location_City': '0', 'demand': [0, 0, 0, 0, 0, 0]}, {'Part_Number': '4XJ1K79631', 'Location_City': '0', 'demand': [0, 0, 0, 0, 0, 0]}, {'Part_Number': '4XJ1K79631', 'Location_City': '0', 'demand': [0, 0, 0, 0, 0, 0]}, {'Part_Number': '4XJ1K79631', 'Location_City': '0', 'demand': [0, 0, 0, 0, 0, 0]}, {'Part_Number': '4XJ1M77975', 'Location_City': 'KRAKOW', 'demand': [0, 1, 0, 0, 0, 0]}, {'Part_Number': '4XJ1M77975', 'Location_City': 'ALEKSANDROW LODZKI', 'demand': [0, 0, 0, 0, 0, 0]}, {'Part_Number': '4XJ1M77975', 'Location_City': 'BIELSKO BIALA', 'demand': [0, 0, 0, 0, 0, 0]}, {'Part_Number': '4XJ1M77975', 'Location_City': 'KRAKOW', 'demand': [0, 0, 0, 0, 0, 0]}, {'Part_Number': '4XJ1M77975', 'Location_City': 'WARSZAWA', 'demand': [0, 0, 0, 0, 0, 0]}, {'Part_Number': '4XJ1M77975', 'Location_City': 'WROCLAW', 'demand': [0, 0, 0, 0, 0, 0]}, {'Part_Number': '4XJ1M77975', 'Location_City': 'PRZASNYSZ', 'demand': [0, 0, 0, 0, 0, 0]}]\n"
     ]
    }
   ],
   "source": [
    "\n",
    "\n",
    "# Database connection details\n",
    "DB_USER = \"root\"\n",
    "DB_PASSWORD = \"asset\"\n",
    "DB_HOST = \"localhost\"  # Change if using a remote server\n",
    "DB_NAME = \"srp_past_demand\"\n",
    "TABLE_NAME = \"poland\"\n",
    "\n",
    "# Create a database connection\n",
    "engine = create_engine(f\"mysql+pymysql://{DB_USER}:{DB_PASSWORD}@{DB_HOST}/{DB_NAME}\")\n",
    "\n",
    "# SQL Query\n",
    "query = f\"SELECT Part_Number, Location_City, Month_1, Month_2, Month_3, Month_4, Month_5, Month_6, Month_7, Month_8, Month_9, Month_10, Month_11, Month_12 FROM {TABLE_NAME}\"\n",
    "df = pd.read_sql(query, con=engine)\n",
    "\n",
    "variable2 = []\n",
    "for index, row in df.iterrows():\n",
    "    variable2.append({\n",
    "        \"Part_Number\": row[\"Part_Number\"],\n",
    "        \"Location_City\": row[\"Location_City\"],\n",
    "        \"demand\": [\n",
    "             row[\"Month_7\"], row[\"Month_8\"], row[\"Month_9\"], row[\"Month_10\"],\n",
    "            row[\"Month_11\"], row[\"Month_12\"]\n",
    "        ]\n",
    "    })\n",
    "\n",
    "# Print or use the variable as needed\n",
    "print(variable2)\n"
   ]
  },
  {
   "cell_type": "code",
   "execution_count": 17,
   "metadata": {},
   "outputs": [
    {
     "name": "stdout",
     "output_type": "stream",
     "text": [
      "[{'Part_Number': '21L2S4EG22', 'Location_City': 'KRAKOW', 'srp': [0, 0, 0, 0, 0, 68]}, {'Part_Number': '21L2S4EG22', 'Location_City': 'ALEKSANDROW LODZKI', 'srp': [0, 0, 0, 0, 0, 7]}, {'Part_Number': '21L2S4EG22', 'Location_City': 'BIELSKO BIALA', 'srp': [0, 0, 0, 0, 0, 3]}, {'Part_Number': '21L2S4EG22', 'Location_City': 'KRAKOW', 'srp': [0, 0, 0, 0, 0, 9]}, {'Part_Number': '21L2S4EG22', 'Location_City': 'WARSZAWA', 'srp': [0, 0, 0, 0, 0, 18]}, {'Part_Number': '21L2S4EG22', 'Location_City': 'WROCLAW', 'srp': [0, 0, 0, 0, 0, 0]}, {'Part_Number': '21L2S4EG22', 'Location_City': 'PRZASNYSZ', 'srp': [0, 0, 0, 0, 0, 5]}, {'Part_Number': '4X30M86918', 'Location_City': 'KRAKOW', 'srp': [0, 0, 0, 0, 0, 0]}, {'Part_Number': '4X20M26272', 'Location_City': 'KRAKOW', 'srp': [0, 0, 0, 0, 0, 0]}, {'Part_Number': '4X20M26272', 'Location_City': 'ALEKSANDROW LODZKI', 'srp': [0, 0, 0, 0, 0, 3]}, {'Part_Number': '4X20M26272', 'Location_City': 'BIELSKO BIALA', 'srp': [0, 0, 0, 0, 0, 0]}, {'Part_Number': '4X20M26272', 'Location_City': 'KRAKOW', 'srp': [0, 0, 0, 0, 0, 0]}, {'Part_Number': '4X20M26272', 'Location_City': 'WARSZAWA', 'srp': [0, 0, 0, 0, 0, 1]}, {'Part_Number': '4X20M26272', 'Location_City': 'WROCLAW', 'srp': [0, 0, 0, 0, 0, 0]}, {'Part_Number': '4X20M26272', 'Location_City': 'PRZASNYSZ', 'srp': [0, 0, 0, 0, 0, 0]}, {'Part_Number': '21KYS31M22', 'Location_City': 'KRAKOW', 'srp': [0, 0, 0, 0, 0, 6]}, {'Part_Number': '21KYS31M22', 'Location_City': 'ALEKSANDROW LODZKI', 'srp': [0, 0, 0, 0, 0, 0]}, {'Part_Number': '21KYS31M22', 'Location_City': 'BIELSKO BIALA', 'srp': [0, 0, 0, 0, 0, 0]}, {'Part_Number': '21KYS31M22', 'Location_City': 'KRAKOW', 'srp': [0, 0, 0, 0, 0, 5]}, {'Part_Number': '21KYS31M22', 'Location_City': 'WARSZAWA', 'srp': [0, 0, 0, 0, 0, 0]}, {'Part_Number': '21KYS31M22', 'Location_City': 'WROCLAW', 'srp': [0, 0, 0, 0, 0, 0]}, {'Part_Number': '21KYS31M22', 'Location_City': 'PRZASNYSZ', 'srp': [0, 0, 0, 0, 0, 0]}, {'Part_Number': '21LVS4NH22', 'Location_City': 'KRAKOW', 'srp': [0, 0, 0, 0, 0, 0]}, {'Part_Number': '21LVS4NH22', 'Location_City': 'ALEKSANDROW LODZKI', 'srp': [0, 0, 0, 0, 0, 5]}, {'Part_Number': '21LVS4NH22', 'Location_City': 'BIELSKO BIALA', 'srp': [0, 0, 0, 0, 0, 0]}, {'Part_Number': '21LVS4NH22', 'Location_City': 'KRAKOW', 'srp': [0, 0, 0, 0, 0, 5]}, {'Part_Number': '21LVS4NH22', 'Location_City': 'WARSZAWA', 'srp': [0, 0, 0, 0, 0, 0]}, {'Part_Number': '21LVS4NH22', 'Location_City': 'WROCLAW', 'srp': [0, 0, 0, 0, 0, 0]}, {'Part_Number': '21LVS4NH22', 'Location_City': 'PRZASNYSZ', 'srp': [0, 0, 0, 0, 0, 0]}, {'Part_Number': '63CFMARXEU', 'Location_City': '0', 'srp': [0, 0, 0, 0, 0, 0]}, {'Part_Number': '63CFMARXEU', 'Location_City': '0', 'srp': [0, 0, 0, 0, 0, 0]}, {'Part_Number': '63CFMARXEU', 'Location_City': '0', 'srp': [0, 0, 0, 0, 0, 0]}, {'Part_Number': '63CFMARXEU', 'Location_City': '0', 'srp': [0, 0, 0, 0, 0, 0]}, {'Part_Number': '63CFMARXEU', 'Location_City': '0', 'srp': [0, 0, 0, 0, 0, 0]}, {'Part_Number': '63CFMARXEU', 'Location_City': '0', 'srp': [0, 0, 0, 0, 0, 0]}, {'Part_Number': '63CFMARXEU', 'Location_City': '0', 'srp': [0, 0, 0, 0, 0, 0]}, {'Part_Number': '40AY0090EU', 'Location_City': 'KRAKOW', 'srp': [0, 0, 0, 0, 0, 0]}, {'Part_Number': '40AY0090EU', 'Location_City': 'ALEKSANDROW LODZKI', 'srp': [0, 0, 0, 0, 0, 0]}, {'Part_Number': '40AY0090EU', 'Location_City': 'BIELSKO BIALA', 'srp': [0, 0, 0, 0, 0, 0]}, {'Part_Number': '40AY0090EU', 'Location_City': 'KRAKOW', 'srp': [0, 0, 0, 0, 0, 0]}, {'Part_Number': '40AY0090EU', 'Location_City': 'WARSZAWA', 'srp': [0, 0, 0, 0, 0, 0]}, {'Part_Number': '40AY0090EU', 'Location_City': 'WROCLAW', 'srp': [0, 0, 0, 0, 0, 0]}, {'Part_Number': '40AY0090EU', 'Location_City': 'PRZASNYSZ', 'srp': [0, 0, 0, 0, 0, 0]}, {'Part_Number': '30G9S5WQ22', 'Location_City': 'KRAKOW', 'srp': [0, 0, 0, 0, 0, 0]}, {'Part_Number': '30G9S5WQ22', 'Location_City': 'ALEKSANDROW LODZKI', 'srp': [0, 0, 0, 0, 0, 0]}, {'Part_Number': '30G9S5WQ22', 'Location_City': 'BIELSKO BIALA', 'srp': [0, 0, 0, 0, 0, 0]}, {'Part_Number': '30G9S5WQ22', 'Location_City': 'KRAKOW', 'srp': [0, 0, 0, 0, 0, 0]}, {'Part_Number': '30G9S5WQ22', 'Location_City': 'WARSZAWA', 'srp': [0, 0, 0, 0, 0, 0]}, {'Part_Number': '30G9S5WQ22', 'Location_City': 'WROCLAW', 'srp': [0, 0, 0, 0, 0, 0]}, {'Part_Number': '30G9S5WQ22', 'Location_City': 'PRZASNYSZ', 'srp': [0, 0, 0, 0, 0, 0]}, {'Part_Number': '40B00300EU', 'Location_City': 'KRAKOW', 'srp': [0, 0, 0, 0, 0, 0]}, {'Part_Number': '40B00300EU', 'Location_City': 'ALEKSANDROW LODZKI', 'srp': [0, 0, 0, 0, 0, 0]}, {'Part_Number': '40B00300EU', 'Location_City': 'BIELSKO BIALA', 'srp': [0, 0, 0, 0, 0, 0]}, {'Part_Number': '40B00300EU', 'Location_City': 'KRAKOW', 'srp': [0, 0, 0, 0, 0, 0]}, {'Part_Number': '40B00300EU', 'Location_City': 'WARSZAWA', 'srp': [0, 0, 0, 0, 0, 0]}, {'Part_Number': '40B00300EU', 'Location_City': 'WROCLAW', 'srp': [0, 0, 0, 0, 0, 1]}, {'Part_Number': '40B00300EU', 'Location_City': 'PRZASNYSZ', 'srp': [0, 0, 0, 0, 0, 1]}, {'Part_Number': '12TES41Q1Z', 'Location_City': 'KRAKOW', 'srp': [0, 0, 0, 0, 0, 0]}, {'Part_Number': '12TES41Q1Z', 'Location_City': 'ALEKSANDROW LODZKI', 'srp': [0, 0, 0, 0, 0, 0]}, {'Part_Number': '12TES41Q1Z', 'Location_City': 'BIELSKO BIALA', 'srp': [0, 0, 0, 0, 0, 0]}, {'Part_Number': '12TES41Q1Z', 'Location_City': 'KRAKOW', 'srp': [0, 0, 0, 0, 0, 0]}, {'Part_Number': '12TES41Q1Z', 'Location_City': 'WARSZAWA', 'srp': [0, 0, 0, 0, 0, 0]}, {'Part_Number': '12TES41Q1Z', 'Location_City': 'WROCLAW', 'srp': [0, 0, 0, 0, 0, 0]}, {'Part_Number': '12TES41Q1Z', 'Location_City': 'PRZASNYSZ', 'srp': [0, 0, 0, 0, 0, 0]}, {'Part_Number': '4999-823-109', 'Location_City': '0', 'srp': [0, 0, 0, 0, 0, 0]}, {'Part_Number': '4999-823-109', 'Location_City': '0', 'srp': [0, 0, 0, 0, 0, 0]}, {'Part_Number': '4999-823-109', 'Location_City': '0', 'srp': [0, 0, 0, 0, 0, 0]}, {'Part_Number': '4999-823-109', 'Location_City': '0', 'srp': [0, 0, 0, 0, 0, 0]}, {'Part_Number': '4999-823-109', 'Location_City': '0', 'srp': [0, 0, 0, 0, 0, 0]}, {'Part_Number': '4999-823-109', 'Location_City': '0', 'srp': [0, 0, 0, 0, 0, 0]}, {'Part_Number': '4999-823-109', 'Location_City': '0', 'srp': [0, 0, 0, 0, 0, 0]}, {'Part_Number': '4X90S91831', 'Location_City': '0', 'srp': [0, 0, 0, 0, 0, 0]}, {'Part_Number': '4X90S91831', 'Location_City': 'ALEKSANDROW LODZKI', 'srp': [0, 0, 0, 0, 0, 0]}, {'Part_Number': '4X90S91831', 'Location_City': 'BIELSKO BIALA', 'srp': [0, 0, 0, 0, 0, 0]}, {'Part_Number': '4X90S91831', 'Location_City': 'KRAKOW', 'srp': [0, 0, 0, 0, 0, 0]}, {'Part_Number': '4X90S91831', 'Location_City': 'WARSZAWA', 'srp': [0, 0, 0, 0, 0, 0]}, {'Part_Number': '4X90S91831', 'Location_City': 'WROCLAW', 'srp': [0, 0, 0, 0, 0, 0]}, {'Part_Number': '4X90S91831', 'Location_City': 'PRZASNYSZ', 'srp': [0, 0, 0, 0, 0, 0]}, {'Part_Number': '12NBGAR1EU', 'Location_City': '0', 'srp': [0, 0, 0, 0, 0, 0]}, {'Part_Number': '12NBGAR1EU', 'Location_City': 'ALEKSANDROW LODZKI', 'srp': [0, 0, 0, 0, 0, 0]}, {'Part_Number': '12NBGAR1EU', 'Location_City': '0', 'srp': [0, 0, 0, 0, 0, 0]}, {'Part_Number': '12NBGAR1EU', 'Location_City': '0', 'srp': [0, 0, 0, 0, 0, 0]}, {'Part_Number': '12NBGAR1EU', 'Location_City': '0', 'srp': [0, 0, 0, 0, 0, 0]}, {'Part_Number': '12NBGAR1EU', 'Location_City': '0', 'srp': [0, 0, 0, 0, 0, 0]}, {'Part_Number': '12NBGAR1EU', 'Location_City': 'PRZASNYSZ', 'srp': [0, 0, 0, 0, 0, 0]}, {'Part_Number': '1E4-00002', 'Location_City': '0', 'srp': [0, 0, 0, 0, 0, 0]}, {'Part_Number': '1E4-00002', 'Location_City': 'ALEKSANDROW LODZKI', 'srp': [0, 0, 0, 0, 0, 0]}, {'Part_Number': '1E4-00002', 'Location_City': '0', 'srp': [0, 0, 0, 0, 0, 0]}, {'Part_Number': '1E4-00002', 'Location_City': '0', 'srp': [0, 0, 0, 0, 0, 0]}, {'Part_Number': '1E4-00002', 'Location_City': 'WARSZAWA', 'srp': [0, 0, 0, 0, 0, 0]}, {'Part_Number': '1E4-00002', 'Location_City': '0', 'srp': [0, 0, 0, 0, 0, 0]}, {'Part_Number': '1E4-00002', 'Location_City': '0', 'srp': [0, 0, 0, 0, 0, 0]}, {'Part_Number': '4XF1A19885', 'Location_City': '0', 'srp': [0, 0, 0, 0, 0, 0]}, {'Part_Number': '4XF1A19885', 'Location_City': 'ALEKSANDROW LODZKI', 'srp': [0, 0, 0, 0, 0, 0]}, {'Part_Number': '4XF1A19885', 'Location_City': '0', 'srp': [0, 0, 0, 0, 0, 0]}, {'Part_Number': '4XF1A19885', 'Location_City': 'KRAKOW', 'srp': [0, 0, 0, 0, 0, 0]}, {'Part_Number': '4XF1A19885', 'Location_City': 'WARSZAWA', 'srp': [0, 0, 0, 0, 0, 0]}, {'Part_Number': '4XF1A19885', 'Location_City': '0', 'srp': [0, 0, 0, 0, 0, 0]}, {'Part_Number': '4XF1A19885', 'Location_City': '0', 'srp': [0, 0, 0, 0, 0, 0]}, {'Part_Number': '4Z10P40249', 'Location_City': '0', 'srp': [0, 0, 0, 0, 0, 0]}, {'Part_Number': '4Z10P40249', 'Location_City': '0', 'srp': [0, 0, 0, 0, 0, 0]}, {'Part_Number': '4Z10P40249', 'Location_City': 'BIELSKO BIALA', 'srp': [0, 0, 0, 0, 0, 0]}, {'Part_Number': '4Z10P40249', 'Location_City': '0', 'srp': [0, 0, 0, 0, 0, 0]}, {'Part_Number': '4Z10P40249', 'Location_City': '0', 'srp': [0, 0, 0, 0, 0, 0]}, {'Part_Number': '4Z10P40249', 'Location_City': '0', 'srp': [0, 0, 0, 0, 0, 0]}, {'Part_Number': '4Z10P40249', 'Location_City': '0', 'srp': [0, 0, 0, 0, 0, 0]}, {'Part_Number': '63CFMAR3EU', 'Location_City': 'KRAKOW', 'srp': [0, 0, 0, 0, 0, 0]}, {'Part_Number': '63CFMAR3EU', 'Location_City': 'ALEKSANDROW LODZKI', 'srp': [0, 0, 0, 0, 0, 0]}, {'Part_Number': '63CFMAR3EU', 'Location_City': 'BIELSKO BIALA', 'srp': [0, 0, 0, 0, 0, 0]}, {'Part_Number': '63CFMAR3EU', 'Location_City': 'KRAKOW', 'srp': [0, 0, 0, 0, 0, 0]}, {'Part_Number': '63CFMAR3EU', 'Location_City': 'WARSZAWA', 'srp': [0, 0, 0, 0, 0, 0]}, {'Part_Number': '63CFMAR3EU', 'Location_City': 'WROCLAW', 'srp': [0, 0, 0, 0, 0, 1]}, {'Part_Number': '63CFMAR3EU', 'Location_City': 'PRZASNYSZ', 'srp': [0, 0, 0, 0, 0, 2]}, {'Part_Number': '4X40E77328', 'Location_City': '0', 'srp': [0, 0, 0, 0, 0, 0]}, {'Part_Number': '4X40E77328', 'Location_City': '0', 'srp': [0, 0, 0, 0, 0, 0]}, {'Part_Number': '4X40E77328', 'Location_City': '0', 'srp': [0, 0, 0, 0, 0, 0]}, {'Part_Number': '4X40E77328', 'Location_City': '0', 'srp': [0, 0, 0, 0, 0, 0]}, {'Part_Number': '4X40E77328', 'Location_City': '0', 'srp': [0, 0, 0, 0, 0, 0]}, {'Part_Number': '4X40E77328', 'Location_City': '0', 'srp': [0, 0, 0, 0, 0, 0]}, {'Part_Number': '4X40E77328', 'Location_City': '0', 'srp': [0, 0, 0, 0, 0, 0]}, {'Part_Number': '4Z10P40247', 'Location_City': 'KRAKOW', 'srp': [0, 0, 0, 0, 0, 0]}, {'Part_Number': '4Z10P40247', 'Location_City': '0', 'srp': [0, 0, 0, 0, 0, 0]}, {'Part_Number': '4Z10P40247', 'Location_City': 'BIELSKO BIALA', 'srp': [0, 0, 0, 0, 0, 0]}, {'Part_Number': '4Z10P40247', 'Location_City': 'KRAKOW', 'srp': [0, 0, 0, 0, 0, 0]}, {'Part_Number': '4Z10P40247', 'Location_City': 'WARSZAWA', 'srp': [0, 0, 0, 0, 0, 0]}, {'Part_Number': '4Z10P40247', 'Location_City': '0', 'srp': [0, 0, 0, 0, 0, 0]}, {'Part_Number': '4Z10P40247', 'Location_City': '0', 'srp': [0, 0, 0, 0, 0, 0]}, {'Part_Number': '0A61769', 'Location_City': 'KRAKOW', 'srp': [0, 0, 0, 0, 0, 0]}, {'Part_Number': '0A61769', 'Location_City': 'ALEKSANDROW LODZKI', 'srp': [0, 0, 0, 0, 0, 0]}, {'Part_Number': '0A61769', 'Location_City': 'BIELSKO BIALA', 'srp': [0, 0, 0, 0, 0, 0]}, {'Part_Number': '0A61769', 'Location_City': 'KRAKOW', 'srp': [0, 0, 0, 0, 0, 0]}, {'Part_Number': '0A61769', 'Location_City': 'WARSZAWA', 'srp': [0, 0, 0, 0, 0, 0]}, {'Part_Number': '0A61769', 'Location_City': 'WROCLAW', 'srp': [0, 0, 0, 0, 0, 0]}, {'Part_Number': '0A61769', 'Location_City': 'PRZASNYSZ', 'srp': [0, 0, 0, 0, 0, 0]}, {'Part_Number': '62CDGAR6EU', 'Location_City': '0', 'srp': [0, 0, 0, 0, 0, 0]}, {'Part_Number': '62CDGAR6EU', 'Location_City': '0', 'srp': [0, 0, 0, 0, 0, 0]}, {'Part_Number': '62CDGAR6EU', 'Location_City': '0', 'srp': [0, 0, 0, 0, 0, 0]}, {'Part_Number': '62CDGAR6EU', 'Location_City': 'KRAKOW', 'srp': [0, 0, 0, 0, 0, 0]}, {'Part_Number': '62CDGAR6EU', 'Location_City': 'WARSZAWA', 'srp': [0, 0, 0, 0, 0, 3]}, {'Part_Number': '62CDGAR6EU', 'Location_City': '0', 'srp': [0, 0, 0, 0, 0, 0]}, {'Part_Number': '62CDGAR6EU', 'Location_City': '0', 'srp': [0, 0, 0, 0, 0, 0]}, {'Part_Number': '4X20E50578', 'Location_City': '0', 'srp': [0, 0, 0, 0, 0, 0]}, {'Part_Number': '4X20E50578', 'Location_City': '0', 'srp': [0, 0, 0, 0, 0, 0]}, {'Part_Number': '4X20E50578', 'Location_City': '0', 'srp': [0, 0, 0, 0, 0, 0]}, {'Part_Number': '4X20E50578', 'Location_City': '0', 'srp': [0, 0, 0, 0, 0, 0]}, {'Part_Number': '4X20E50578', 'Location_City': '0', 'srp': [0, 0, 0, 0, 0, 0]}, {'Part_Number': '4X20E50578', 'Location_City': '0', 'srp': [0, 0, 0, 0, 0, 0]}, {'Part_Number': '4X20E50578', 'Location_City': '0', 'srp': [0, 0, 0, 0, 0, 0]}, {'Part_Number': '4X20S56701', 'Location_City': 'KRAKOW', 'srp': [0, 0, 0, 0, 0, 0]}, {'Part_Number': '4X20S56701', 'Location_City': 'ALEKSANDROW LODZKI', 'srp': [0, 0, 0, 0, 0, 0]}, {'Part_Number': '4X20S56701', 'Location_City': '0', 'srp': [0, 0, 0, 0, 0, 0]}, {'Part_Number': '4X20S56701', 'Location_City': '0', 'srp': [0, 0, 0, 0, 0, 0]}, {'Part_Number': '4X20S56701', 'Location_City': 'WARSZAWA', 'srp': [0, 0, 0, 0, 0, 0]}, {'Part_Number': '4X20S56701', 'Location_City': '0', 'srp': [0, 0, 0, 0, 0, 0]}, {'Part_Number': '4X20S56701', 'Location_City': 'PRZASNYSZ', 'srp': [0, 0, 0, 0, 0, 0]}, {'Part_Number': '4XJ1K79631', 'Location_City': '0', 'srp': [0, 0, 0, 0, 0, 0]}, {'Part_Number': '4XJ1K79631', 'Location_City': 'ALEKSANDROW LODZKI', 'srp': [0, 0, 0, 0, 0, 0]}, {'Part_Number': '4XJ1K79631', 'Location_City': '0', 'srp': [0, 0, 0, 0, 0, 0]}, {'Part_Number': '4XJ1K79631', 'Location_City': '0', 'srp': [0, 0, 0, 0, 0, 0]}, {'Part_Number': '4XJ1K79631', 'Location_City': '0', 'srp': [0, 0, 0, 0, 0, 0]}, {'Part_Number': '4XJ1K79631', 'Location_City': '0', 'srp': [0, 0, 0, 0, 0, 0]}, {'Part_Number': '4XJ1K79631', 'Location_City': '0', 'srp': [0, 0, 0, 0, 0, 0]}, {'Part_Number': '4XJ1M77975', 'Location_City': 'KRAKOW', 'srp': [0, 0, 0, 0, 0, 0]}, {'Part_Number': '4XJ1M77975', 'Location_City': 'ALEKSANDROW LODZKI', 'srp': [0, 0, 0, 0, 0, 0]}, {'Part_Number': '4XJ1M77975', 'Location_City': 'BIELSKO BIALA', 'srp': [0, 0, 0, 0, 0, 0]}, {'Part_Number': '4XJ1M77975', 'Location_City': 'KRAKOW', 'srp': [0, 0, 0, 0, 0, 0]}, {'Part_Number': '4XJ1M77975', 'Location_City': 'WARSZAWA', 'srp': [0, 0, 0, 0, 0, 0]}, {'Part_Number': '4XJ1M77975', 'Location_City': 'WROCLAW', 'srp': [0, 0, 0, 0, 0, 0]}, {'Part_Number': '4XJ1M77975', 'Location_City': 'PRZASNYSZ', 'srp': [0, 0, 0, 0, 0, 0]}]\n"
     ]
    }
   ],
   "source": [
    "DB_USER = \"root\"\n",
    "DB_PASSWORD = \"asset\"\n",
    "DB_HOST = \"localhost\"  # Change if using a remote server\n",
    "DB_NAME = \"past_srp_prediction\"\n",
    "TABLE_NAME = \"poland\"\n",
    "\n",
    "# Create a database connection\n",
    "engine = create_engine(f\"mysql+pymysql://{DB_USER}:{DB_PASSWORD}@{DB_HOST}/{DB_NAME}\")\n",
    "\n",
    "# SQL Query\n",
    "query = f\"SELECT Part_Number, Location_City, Month_1, Month_2, Month_3, Month_4, Month_5, Month_6, Month_7, Month_8, Month_9, Month_10, Month_11, Month_12 FROM {TABLE_NAME}\"\n",
    "df = pd.read_sql(query, con=engine)\n",
    "\n",
    "variable3 = []\n",
    "for index, row in df.iterrows():\n",
    "    variable3.append({\n",
    "        \"Part_Number\": row[\"Part_Number\"],\n",
    "        \"Location_City\": row[\"Location_City\"],\n",
    "        \"srp\": [\n",
    "             row[\"Month_7\"], row[\"Month_8\"], row[\"Month_9\"], row[\"Month_10\"],\n",
    "            row[\"Month_11\"], row[\"Month_12\"]\n",
    "        ]\n",
    "    })\n",
    "\n",
    "# Print or use the variable as needed\n",
    "print(variable3)"
   ]
  },
  {
   "cell_type": "code",
   "execution_count": 19,
   "metadata": {},
   "outputs": [
    {
     "name": "stdout",
     "output_type": "stream",
     "text": [
      "[{'Part_Number': '21L2S4EG22', 'Location_City': 'KRAKOW', 'Inventory': [0, 0, 0, 0, 0, 0], 'demand': [3, 4, 3, 4, 3, 2], 'srp': [0, 0, 0, 0, 0, 9]}, {'Part_Number': '21L2S4EG22', 'Location_City': 'ALEKSANDROW LODZKI', 'Inventory': [0, 0, 0, 0, 0, 0], 'demand': [1, 3, 4, 0, 0, 3], 'srp': [0, 0, 0, 0, 0, 7]}, {'Part_Number': '21L2S4EG22', 'Location_City': 'BIELSKO BIALA', 'Inventory': [0, 0, 0, 0, 0, 0], 'demand': [0, 3, 0, 0, 3, 2], 'srp': [0, 0, 0, 0, 0, 3]}, {'Part_Number': '21L2S4EG22', 'Location_City': 'WARSZAWA', 'Inventory': [0, 0, 0, 0, 0, 0], 'demand': [12, 0, 0, 0, 1, 0], 'srp': [0, 0, 0, 0, 0, 18]}, {'Part_Number': '21L2S4EG22', 'Location_City': 'WROCLAW', 'Inventory': [0, 0, 0, 0, 0, 0], 'demand': [1, 0, 0, 1, 0, 3], 'srp': [0, 0, 0, 0, 0, 0]}, {'Part_Number': '21L2S4EG22', 'Location_City': 'PRZASNYSZ', 'Inventory': [0, 0, 0, 0, 0, 0], 'demand': [1, 0, 4, 0, 3, 0], 'srp': [0, 0, 0, 0, 0, 5]}, {'Part_Number': '4X30M86918', 'Location_City': 'KRAKOW', 'Inventory': [0, 0, 0, 0, 0, 6], 'demand': [3, 1, 3, 4, 6, 9], 'srp': [0, 0, 0, 0, 0, 0]}, {'Part_Number': '4X20M26272', 'Location_City': 'KRAKOW', 'Inventory': [0, 0, 0, 0, 0, 7], 'demand': [3, 0, 0, 0, 0, 5], 'srp': [0, 0, 0, 0, 0, 0]}, {'Part_Number': '4X20M26272', 'Location_City': 'ALEKSANDROW LODZKI', 'Inventory': [0, 0, 0, 0, 0, 8], 'demand': [2, 10, 3, 0, 2, 0], 'srp': [0, 0, 0, 0, 0, 3]}, {'Part_Number': '4X20M26272', 'Location_City': 'BIELSKO BIALA', 'Inventory': [0, 0, 0, 0, 0, 0], 'demand': [0, 0, 0, 0, 0, 0], 'srp': [0, 0, 0, 0, 0, 0]}, {'Part_Number': '4X20M26272', 'Location_City': 'WARSZAWA', 'Inventory': [0, 0, 0, 0, 0, 0], 'demand': [1, 0, 1, 0, 1, 1], 'srp': [0, 0, 0, 0, 0, 1]}, {'Part_Number': '4X20M26272', 'Location_City': 'WROCLAW', 'Inventory': [0, 0, 0, 0, 0, 1], 'demand': [0, 0, 0, 0, 0, 0], 'srp': [0, 0, 0, 0, 0, 0]}, {'Part_Number': '4X20M26272', 'Location_City': 'PRZASNYSZ', 'Inventory': [0, 0, 0, 0, 0, 0], 'demand': [0, 0, 0, 0, 0, 0], 'srp': [0, 0, 0, 0, 0, 0]}, {'Part_Number': '21KYS31M22', 'Location_City': 'KRAKOW', 'Inventory': [0, 0, 0, 0, 0, 0], 'demand': [2, 3, 4, 4, 3, 4], 'srp': [0, 0, 0, 0, 0, 5]}, {'Part_Number': '21KYS31M22', 'Location_City': 'ALEKSANDROW LODZKI', 'Inventory': [0, 0, 0, 0, 0, 0], 'demand': [0, 2, 3, 2, 1, 3], 'srp': [0, 0, 0, 0, 0, 0]}, {'Part_Number': '21KYS31M22', 'Location_City': 'BIELSKO BIALA', 'Inventory': [0, 0, 0, 0, 0, 0], 'demand': [0, 0, 1, 0, 6, 2], 'srp': [0, 0, 0, 0, 0, 0]}, {'Part_Number': '21KYS31M22', 'Location_City': 'WARSZAWA', 'Inventory': [0, 0, 0, 0, 0, 0], 'demand': [2, 0, 2, 0, 0, 0], 'srp': [0, 0, 0, 0, 0, 0]}, {'Part_Number': '21KYS31M22', 'Location_City': 'WROCLAW', 'Inventory': [0, 0, 0, 0, 0, 0], 'demand': [1, 0, 1, 0, 0, 1], 'srp': [0, 0, 0, 0, 0, 0]}, {'Part_Number': '21KYS31M22', 'Location_City': 'PRZASNYSZ', 'Inventory': [0, 0, 0, 0, 0, 0], 'demand': [1, 0, 0, 0, 0, 0], 'srp': [0, 0, 0, 0, 0, 0]}, {'Part_Number': '21LVS4NH22', 'Location_City': 'KRAKOW', 'Inventory': [0, 0, 0, 0, 0, 0], 'demand': [1, 1, 1, 0, 1, 0], 'srp': [0, 0, 0, 0, 0, 5]}, {'Part_Number': '21LVS4NH22', 'Location_City': 'ALEKSANDROW LODZKI', 'Inventory': [0, 0, 0, 0, 0, 0], 'demand': [1, 2, 0, 0, 2, 0], 'srp': [0, 0, 0, 0, 0, 5]}, {'Part_Number': '21LVS4NH22', 'Location_City': 'BIELSKO BIALA', 'Inventory': [0, 0, 0, 0, 0, 0], 'demand': [0, 0, 0, 0, 0, 0], 'srp': [0, 0, 0, 0, 0, 0]}, {'Part_Number': '21LVS4NH22', 'Location_City': 'WARSZAWA', 'Inventory': [0, 0, 0, 0, 0, 0], 'demand': [0, 0, 0, 0, 0, 1], 'srp': [0, 0, 0, 0, 0, 0]}, {'Part_Number': '21LVS4NH22', 'Location_City': 'WROCLAW', 'Inventory': [0, 0, 0, 0, 0, 0], 'demand': [0, 0, 0, 0, 0, 0], 'srp': [0, 0, 0, 0, 0, 0]}, {'Part_Number': '21LVS4NH22', 'Location_City': 'PRZASNYSZ', 'Inventory': [0, 0, 0, 0, 0, 0], 'demand': [0, 0, 0, 0, 0, 0], 'srp': [0, 0, 0, 0, 0, 0]}, {'Part_Number': '63CFMARXEU', 'Location_City': '0', 'Inventory': [0, 0, 0, 0, 0, 0], 'demand': [3, 1, 0, 1, 7, 0], 'srp': [0, 0, 0, 0, 0, 0]}, {'Part_Number': '40AY0090EU', 'Location_City': 'KRAKOW', 'Inventory': [0, 0, 0, 0, 0, 5], 'demand': [1, 0, 0, 1, 3, 0], 'srp': [0, 0, 0, 0, 0, 0]}, {'Part_Number': '40AY0090EU', 'Location_City': 'ALEKSANDROW LODZKI', 'Inventory': [0, 0, 0, 0, 0, 5], 'demand': [1, 1, 3, 1, 2, 3], 'srp': [0, 0, 0, 0, 0, 0]}, {'Part_Number': '40AY0090EU', 'Location_City': 'BIELSKO BIALA', 'Inventory': [0, 0, 0, 0, 0, 7], 'demand': [0, 3, 0, 0, 3, 2], 'srp': [0, 0, 0, 0, 0, 0]}, {'Part_Number': '40AY0090EU', 'Location_City': 'WARSZAWA', 'Inventory': [0, 0, 0, 0, 0, 3], 'demand': [0, 1, 0, 0, 0, 0], 'srp': [0, 0, 0, 0, 0, 0]}, {'Part_Number': '40AY0090EU', 'Location_City': 'WROCLAW', 'Inventory': [0, 0, 0, 0, 0, 1], 'demand': [0, 0, 0, 0, 0, 1], 'srp': [0, 0, 0, 0, 0, 0]}, {'Part_Number': '40AY0090EU', 'Location_City': 'PRZASNYSZ', 'Inventory': [0, 0, 0, 0, 0, 2], 'demand': [0, 0, 0, 1, 3, 0], 'srp': [0, 0, 0, 0, 0, 0]}, {'Part_Number': '30G9S5WQ22', 'Location_City': 'KRAKOW', 'Inventory': [0, 0, 0, 0, 0, 3], 'demand': [0, 0, 0, 0, 0, 0], 'srp': [0, 0, 0, 0, 0, 0]}, {'Part_Number': '30G9S5WQ22', 'Location_City': 'ALEKSANDROW LODZKI', 'Inventory': [0, 0, 0, 0, 0, 11], 'demand': [0, 2, 0, 0, 0, 0], 'srp': [0, 0, 0, 0, 0, 0]}, {'Part_Number': '30G9S5WQ22', 'Location_City': 'BIELSKO BIALA', 'Inventory': [0, 0, 0, 0, 0, 1], 'demand': [0, 0, 0, 0, 0, 2], 'srp': [0, 0, 0, 0, 0, 0]}, {'Part_Number': '30G9S5WQ22', 'Location_City': 'WARSZAWA', 'Inventory': [0, 0, 0, 0, 0, 0], 'demand': [1, 0, 0, 0, 0, 0], 'srp': [0, 0, 0, 0, 0, 0]}, {'Part_Number': '30G9S5WQ22', 'Location_City': 'WROCLAW', 'Inventory': [0, 0, 0, 0, 0, 1], 'demand': [0, 0, 0, 0, 0, 0], 'srp': [0, 0, 0, 0, 0, 0]}, {'Part_Number': '30G9S5WQ22', 'Location_City': 'PRZASNYSZ', 'Inventory': [0, 0, 0, 0, 0, 2], 'demand': [0, 0, 0, 0, 0, 0], 'srp': [0, 0, 0, 0, 0, 0]}, {'Part_Number': '40B00300EU', 'Location_City': 'KRAKOW', 'Inventory': [0, 0, 0, 0, 0, 5], 'demand': [0, 0, 2, 1, 2, 0], 'srp': [0, 0, 0, 0, 0, 0]}, {'Part_Number': '40B00300EU', 'Location_City': 'ALEKSANDROW LODZKI', 'Inventory': [0, 0, 0, 0, 0, 3], 'demand': [1, 3, 3, 3, 2, 0], 'srp': [0, 0, 0, 0, 0, 0]}, {'Part_Number': '40B00300EU', 'Location_City': 'BIELSKO BIALA', 'Inventory': [0, 0, 0, 0, 0, 3], 'demand': [0, 2, 1, 0, 6, 2], 'srp': [0, 0, 0, 0, 0, 0]}, {'Part_Number': '40B00300EU', 'Location_City': 'WARSZAWA', 'Inventory': [0, 0, 0, 0, 0, 2], 'demand': [0, 0, 1, 0, 0, 0], 'srp': [0, 0, 0, 0, 0, 0]}, {'Part_Number': '40B00300EU', 'Location_City': 'WROCLAW', 'Inventory': [0, 0, 0, 0, 0, 2], 'demand': [0, 0, 0, 1, 0, 0], 'srp': [0, 0, 0, 0, 0, 1]}, {'Part_Number': '40B00300EU', 'Location_City': 'PRZASNYSZ', 'Inventory': [0, 0, 0, 0, 0, 1], 'demand': [1, 0, 0, 0, 1, 0], 'srp': [0, 0, 0, 0, 0, 1]}, {'Part_Number': '12TES41Q1Z', 'Location_City': 'KRAKOW', 'Inventory': [0, 0, 0, 0, 0, 5], 'demand': [0, 0, 0, 2, 0, 0], 'srp': [0, 0, 0, 0, 0, 0]}, {'Part_Number': '12TES41Q1Z', 'Location_City': 'ALEKSANDROW LODZKI', 'Inventory': [0, 0, 0, 0, 0, 39], 'demand': [0, 0, 0, 0, 2, 0], 'srp': [0, 0, 0, 0, 0, 0]}, {'Part_Number': '12TES41Q1Z', 'Location_City': 'BIELSKO BIALA', 'Inventory': [0, 0, 0, 0, 0, 14], 'demand': [0, 0, 0, 0, 0, 0], 'srp': [0, 0, 0, 0, 0, 0]}, {'Part_Number': '12TES41Q1Z', 'Location_City': 'WARSZAWA', 'Inventory': [0, 0, 0, 0, 0, 0], 'demand': [0, 0, 0, 0, 0, 0], 'srp': [0, 0, 0, 0, 0, 0]}, {'Part_Number': '12TES41Q1Z', 'Location_City': 'WROCLAW', 'Inventory': [0, 0, 0, 0, 0, 0], 'demand': [0, 0, 0, 0, 0, 0], 'srp': [0, 0, 0, 0, 0, 0]}, {'Part_Number': '12TES41Q1Z', 'Location_City': 'PRZASNYSZ', 'Inventory': [0, 0, 0, 0, 0, 0], 'demand': [0, 0, 0, 0, 0, 0], 'srp': [0, 0, 0, 0, 0, 0]}, {'Part_Number': '4999-823-109', 'Location_City': '0', 'Inventory': [0, 0, 0, 0, 0, 0], 'demand': [0, 0, 0, 0, 0, 0], 'srp': [0, 0, 0, 0, 0, 0]}, {'Part_Number': '4X90S91831', 'Location_City': '0', 'Inventory': [0, 0, 0, 0, 0, 0], 'demand': [0, 0, 0, 0, 0, 0], 'srp': [0, 0, 0, 0, 0, 0]}, {'Part_Number': '4X90S91831', 'Location_City': 'ALEKSANDROW LODZKI', 'Inventory': [0, 0, 0, 0, 0, 0], 'demand': [1, 1, 1, 1, 0, 0], 'srp': [0, 0, 0, 0, 0, 0]}, {'Part_Number': '4X90S91831', 'Location_City': 'BIELSKO BIALA', 'Inventory': [0, 0, 0, 0, 0, 2], 'demand': [0, 0, 0, 0, 0, 0], 'srp': [0, 0, 0, 0, 0, 0]}, {'Part_Number': '4X90S91831', 'Location_City': 'KRAKOW', 'Inventory': [0, 0, 0, 0, 0, 0], 'demand': [0, 0, 0, 0, 7, 0], 'srp': [0, 0, 0, 0, 0, 0]}, {'Part_Number': '4X90S91831', 'Location_City': 'WARSZAWA', 'Inventory': [0, 0, 0, 0, 0, 6], 'demand': [0, 0, 0, 0, 0, 0], 'srp': [0, 0, 0, 0, 0, 0]}, {'Part_Number': '4X90S91831', 'Location_City': 'WROCLAW', 'Inventory': [0, 0, 0, 0, 0, 0], 'demand': [0, 0, 0, 0, 0, 1], 'srp': [0, 0, 0, 0, 0, 0]}, {'Part_Number': '4X90S91831', 'Location_City': 'PRZASNYSZ', 'Inventory': [0, 0, 0, 0, 0, 2], 'demand': [0, 0, 0, 0, 0, 0], 'srp': [0, 0, 0, 0, 0, 0]}, {'Part_Number': '12NBGAR1EU', 'Location_City': '0', 'Inventory': [0, 0, 0, 0, 0, 0], 'demand': [0, 0, 0, 0, 0, 0], 'srp': [0, 0, 0, 0, 0, 0]}, {'Part_Number': '12NBGAR1EU', 'Location_City': 'ALEKSANDROW LODZKI', 'Inventory': [0, 0, 0, 0, 0, 49], 'demand': [0, 2, 0, 0, 3, 0], 'srp': [0, 0, 0, 0, 0, 0]}, {'Part_Number': '12NBGAR1EU', 'Location_City': 'PRZASNYSZ', 'Inventory': [0, 0, 0, 0, 0, 0], 'demand': [0, 0, 0, 0, 4, 0], 'srp': [0, 0, 0, 0, 0, 0]}, {'Part_Number': '1E4-00002', 'Location_City': '0', 'Inventory': [0, 0, 0, 0, 0, 0], 'demand': [0, 0, 0, 0, 0, 0], 'srp': [0, 0, 0, 0, 0, 0]}, {'Part_Number': '1E4-00002', 'Location_City': 'ALEKSANDROW LODZKI', 'Inventory': [0, 0, 0, 0, 0, 0], 'demand': [0, 0, 0, 0, 1, 0], 'srp': [0, 0, 0, 0, 0, 0]}, {'Part_Number': '1E4-00002', 'Location_City': 'WARSZAWA', 'Inventory': [0, 0, 0, 0, 0, 0], 'demand': [0, 0, 0, 0, 0, 0], 'srp': [0, 0, 0, 0, 0, 0]}, {'Part_Number': '4XF1A19885', 'Location_City': '0', 'Inventory': [0, 0, 0, 0, 0, 0], 'demand': [0, 0, 0, 0, 0, 0], 'srp': [0, 0, 0, 0, 0, 0]}, {'Part_Number': '4XF1A19885', 'Location_City': 'ALEKSANDROW LODZKI', 'Inventory': [0, 0, 0, 0, 0, 1], 'demand': [0, 0, 0, 1, 0, 0], 'srp': [0, 0, 0, 0, 0, 0]}, {'Part_Number': '4XF1A19885', 'Location_City': 'KRAKOW', 'Inventory': [0, 0, 0, 0, 0, 1], 'demand': [0, 0, 0, 0, 0, 0], 'srp': [0, 0, 0, 0, 0, 0]}, {'Part_Number': '4XF1A19885', 'Location_City': 'WARSZAWA', 'Inventory': [0, 0, 0, 0, 0, 2], 'demand': [0, 0, 0, 0, 0, 0], 'srp': [0, 0, 0, 0, 0, 0]}, {'Part_Number': '4Z10P40249', 'Location_City': '0', 'Inventory': [0, 0, 0, 0, 0, 0], 'demand': [0, 0, 0, 0, 0, 0], 'srp': [0, 0, 0, 0, 0, 0]}, {'Part_Number': '4Z10P40249', 'Location_City': 'BIELSKO BIALA', 'Inventory': [0, 0, 0, 0, 0, 0], 'demand': [0, 1, 0, 1, 0, 0], 'srp': [0, 0, 0, 0, 0, 0]}, {'Part_Number': '63CFMAR3EU', 'Location_City': 'KRAKOW', 'Inventory': [0, 0, 0, 0, 0, 20], 'demand': [2, 2, 0, 0, 0, 0], 'srp': [0, 0, 0, 0, 0, 0]}, {'Part_Number': '63CFMAR3EU', 'Location_City': 'ALEKSANDROW LODZKI', 'Inventory': [0, 0, 0, 0, 0, 11], 'demand': [5, 2, 2, 0, 0, 0], 'srp': [0, 0, 0, 0, 0, 0]}, {'Part_Number': '63CFMAR3EU', 'Location_City': 'BIELSKO BIALA', 'Inventory': [0, 0, 0, 0, 0, 9], 'demand': [1, 1, 0, 0, 0, 0], 'srp': [0, 0, 0, 0, 0, 0]}, {'Part_Number': '63CFMAR3EU', 'Location_City': 'WARSZAWA', 'Inventory': [0, 0, 0, 0, 0, 0], 'demand': [2, 0, 0, 0, 0, 0], 'srp': [0, 0, 0, 0, 0, 0]}, {'Part_Number': '63CFMAR3EU', 'Location_City': 'WROCLAW', 'Inventory': [0, 0, 0, 0, 0, 0], 'demand': [0, 0, 0, 0, 0, 0], 'srp': [0, 0, 0, 0, 0, 1]}, {'Part_Number': '63CFMAR3EU', 'Location_City': 'PRZASNYSZ', 'Inventory': [0, 0, 0, 0, 0, 0], 'demand': [0, 0, 1, 0, 0, 0], 'srp': [0, 0, 0, 0, 0, 2]}, {'Part_Number': '4X40E77328', 'Location_City': '0', 'Inventory': [0, 0, 0, 0, 0, 0], 'demand': [0, 0, 0, 0, 0, 0], 'srp': [0, 0, 0, 0, 0, 0]}, {'Part_Number': '4Z10P40247', 'Location_City': 'KRAKOW', 'Inventory': [0, 0, 0, 0, 0, 0], 'demand': [0, 0, 0, 0, 0, 0], 'srp': [0, 0, 0, 0, 0, 0]}, {'Part_Number': '4Z10P40247', 'Location_City': '0', 'Inventory': [0, 0, 0, 0, 0, 0], 'demand': [0, 0, 0, 0, 0, 0], 'srp': [0, 0, 0, 0, 0, 0]}, {'Part_Number': '4Z10P40247', 'Location_City': 'BIELSKO BIALA', 'Inventory': [0, 0, 0, 0, 0, 0], 'demand': [0, 4, 0, 0, 0, 0], 'srp': [0, 0, 0, 0, 0, 0]}, {'Part_Number': '4Z10P40247', 'Location_City': 'WARSZAWA', 'Inventory': [0, 0, 0, 0, 0, 0], 'demand': [0, 0, 0, 0, 0, 0], 'srp': [0, 0, 0, 0, 0, 0]}, {'Part_Number': '0A61769', 'Location_City': 'KRAKOW', 'Inventory': [0, 0, 0, 0, 0, 0], 'demand': [0, 0, 0, 0, 0, 0], 'srp': [0, 0, 0, 0, 0, 0]}, {'Part_Number': '0A61769', 'Location_City': 'ALEKSANDROW LODZKI', 'Inventory': [0, 0, 0, 0, 0, 0], 'demand': [1, 2, 0, 0, 0, 0], 'srp': [0, 0, 0, 0, 0, 0]}, {'Part_Number': '0A61769', 'Location_City': 'BIELSKO BIALA', 'Inventory': [0, 0, 0, 0, 0, 0], 'demand': [0, 0, 0, 0, 0, 0], 'srp': [0, 0, 0, 0, 0, 0]}, {'Part_Number': '0A61769', 'Location_City': 'WARSZAWA', 'Inventory': [0, 0, 0, 0, 0, 0], 'demand': [0, 0, 0, 0, 0, 0], 'srp': [0, 0, 0, 0, 0, 0]}, {'Part_Number': '0A61769', 'Location_City': 'WROCLAW', 'Inventory': [0, 0, 0, 0, 0, 0], 'demand': [0, 0, 0, 0, 0, 0], 'srp': [0, 0, 0, 0, 0, 0]}, {'Part_Number': '0A61769', 'Location_City': 'PRZASNYSZ', 'Inventory': [0, 0, 0, 0, 0, 0], 'demand': [0, 0, 0, 0, 0, 0], 'srp': [0, 0, 0, 0, 0, 0]}, {'Part_Number': '62CDGAR6EU', 'Location_City': '0', 'Inventory': [0, 0, 0, 0, 0, 0], 'demand': [0, 2, 0, 0, 0, 0], 'srp': [0, 0, 0, 0, 0, 0]}, {'Part_Number': '62CDGAR6EU', 'Location_City': 'KRAKOW', 'Inventory': [0, 0, 0, 0, 0, 0], 'demand': [0, 0, 0, 0, 0, 0], 'srp': [0, 0, 0, 0, 0, 0]}, {'Part_Number': '62CDGAR6EU', 'Location_City': 'WARSZAWA', 'Inventory': [0, 0, 0, 0, 0, 0], 'demand': [0, 1, 0, 0, 0, 0], 'srp': [0, 0, 0, 0, 0, 3]}, {'Part_Number': '4X20E50578', 'Location_City': '0', 'Inventory': [0, 0, 0, 0, 0, 0], 'demand': [0, 0, 0, 0, 0, 0], 'srp': [0, 0, 0, 0, 0, 0]}, {'Part_Number': '4X20S56701', 'Location_City': 'KRAKOW', 'Inventory': [0, 0, 0, 0, 0, 0], 'demand': [1, 0, 0, 0, 0, 0], 'srp': [0, 0, 0, 0, 0, 0]}, {'Part_Number': '4X20S56701', 'Location_City': 'ALEKSANDROW LODZKI', 'Inventory': [0, 0, 0, 0, 0, 0], 'demand': [0, 0, 0, 0, 0, 0], 'srp': [0, 0, 0, 0, 0, 0]}, {'Part_Number': '4X20S56701', 'Location_City': '0', 'Inventory': [0, 0, 0, 0, 0, 0], 'demand': [0, 0, 0, 0, 0, 0], 'srp': [0, 0, 0, 0, 0, 0]}, {'Part_Number': '4X20S56701', 'Location_City': 'WARSZAWA', 'Inventory': [0, 0, 0, 0, 0, 0], 'demand': [0, 1, 0, 0, 0, 0], 'srp': [0, 0, 0, 0, 0, 0]}, {'Part_Number': '4X20S56701', 'Location_City': 'PRZASNYSZ', 'Inventory': [0, 0, 0, 0, 0, 0], 'demand': [0, 1, 0, 0, 0, 0], 'srp': [0, 0, 0, 0, 0, 0]}, {'Part_Number': '4XJ1K79631', 'Location_City': '0', 'Inventory': [0, 0, 0, 0, 0, 0], 'demand': [0, 0, 0, 0, 0, 0], 'srp': [0, 0, 0, 0, 0, 0]}, {'Part_Number': '4XJ1K79631', 'Location_City': 'ALEKSANDROW LODZKI', 'Inventory': [0, 0, 0, 0, 0, 0], 'demand': [0, 1, 0, 0, 0, 0], 'srp': [0, 0, 0, 0, 0, 0]}, {'Part_Number': '4XJ1M77975', 'Location_City': 'KRAKOW', 'Inventory': [0, 0, 0, 0, 0, 0], 'demand': [0, 0, 0, 0, 0, 0], 'srp': [0, 0, 0, 0, 0, 0]}, {'Part_Number': '4XJ1M77975', 'Location_City': 'ALEKSANDROW LODZKI', 'Inventory': [0, 0, 0, 0, 0, 0], 'demand': [0, 0, 0, 0, 0, 0], 'srp': [0, 0, 0, 0, 0, 0]}, {'Part_Number': '4XJ1M77975', 'Location_City': 'BIELSKO BIALA', 'Inventory': [0, 0, 0, 0, 0, 0], 'demand': [0, 0, 0, 0, 0, 0], 'srp': [0, 0, 0, 0, 0, 0]}, {'Part_Number': '4XJ1M77975', 'Location_City': 'WARSZAWA', 'Inventory': [0, 0, 0, 0, 0, 0], 'demand': [0, 0, 0, 0, 0, 0], 'srp': [0, 0, 0, 0, 0, 0]}, {'Part_Number': '4XJ1M77975', 'Location_City': 'WROCLAW', 'Inventory': [0, 0, 0, 0, 0, 0], 'demand': [0, 0, 0, 0, 0, 0], 'srp': [0, 0, 0, 0, 0, 0]}, {'Part_Number': '4XJ1M77975', 'Location_City': 'PRZASNYSZ', 'Inventory': [0, 0, 0, 0, 0, 0], 'demand': [0, 0, 0, 0, 0, 0], 'srp': [0, 0, 0, 0, 0, 0]}]\n"
     ]
    }
   ],
   "source": [
    "variable4 = []\n",
    "\n",
    "# Create a dictionary to hold combined data\n",
    "combined_data = {}\n",
    "\n",
    "# Combine data from variable1\n",
    "for item in variable1:\n",
    "    key = (item['Part_Number'], item['Location_City'])\n",
    "    if key not in combined_data:\n",
    "        combined_data[key] = {}\n",
    "    combined_data[key].update(item)\n",
    "\n",
    "# Combine data from variable2\n",
    "for item in variable2:\n",
    "    key = (item['Part_Number'], item['Location_City'])\n",
    "    if key not in combined_data:\n",
    "        combined_data[key] = {}\n",
    "    combined_data[key].update(item)\n",
    "\n",
    "# Combine data from variable3\n",
    "for item in variable3:\n",
    "    key = (item['Part_Number'], item['Location_City'])\n",
    "    if key not in combined_data:\n",
    "        combined_data[key] = {}\n",
    "    combined_data[key].update(item)\n",
    "\n",
    "# Convert combined data to the desired format\n",
    "for key, value in combined_data.items():\n",
    "    variable4.append(value)\n",
    "\n",
    "# Print or use variable4 as needed\n",
    "print(variable4)"
   ]
  },
  {
   "cell_type": "code",
   "execution_count": null,
   "metadata": {},
   "outputs": [],
   "source": []
  }
 ],
 "metadata": {
  "kernelspec": {
   "display_name": "base",
   "language": "python",
   "name": "python3"
  },
  "language_info": {
   "codemirror_mode": {
    "name": "ipython",
    "version": 3
   },
   "file_extension": ".py",
   "mimetype": "text/x-python",
   "name": "python",
   "nbconvert_exporter": "python",
   "pygments_lexer": "ipython3",
   "version": "3.12.4"
  }
 },
 "nbformat": 4,
 "nbformat_minor": 2
}
